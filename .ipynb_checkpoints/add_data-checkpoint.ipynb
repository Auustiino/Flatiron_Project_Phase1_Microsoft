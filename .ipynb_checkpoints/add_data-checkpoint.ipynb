{
 "cells": [
  {
   "cell_type": "code",
   "execution_count": 48,
   "id": "2ff8626a",
   "metadata": {},
   "outputs": [],
   "source": [
    "import pandas as pd\n",
    "import json\n",
    "import requests\n",
    "API_key=\"051d30521795e4d2a16a29de43033af3\"\n",
    "!ls data/zippedData | grep sv > file_list.txt"
   ]
  },
  {
   "cell_type": "code",
   "execution_count": 49,
   "id": "9511824b",
   "metadata": {},
   "outputs": [],
   "source": [
    "# get the list of tmdb movie id's\n",
    "\n",
    "list_movie_ids=[]\n",
    "list_errors=[]\n",
    "with open('data/movie_ids_12_09_2021.json', 'r', encoding='utf-8') as f:\n",
    "\n",
    "    for line in f:\n",
    "        id_json=f.readline()#.strip()\n",
    "        try:\n",
    "#            list_movie_ids.append(json.loads(id_json))\n",
    "            movie_id_json=json.loads(id_json)\n",
    "        except:\n",
    "            list_errors.append(line)\n",
    "        else:\n",
    "            list_movie_ids.append(movie_id_json)\n"
   ]
  },
  {
   "cell_type": "code",
   "execution_count": 50,
   "id": "d4a60f6e",
   "metadata": {},
   "outputs": [],
   "source": [
    "query = 'https://api.themoviedb.org/3/genre/movie/list?api_key='+API_key+'&language=en-US'\n",
    "response =  requests.get(query)\n",
    "\n",
    "pd.DataFrame(response.json()['genres']).to_csv(\"data/zippedData/tmdb_genres.csv.gz\", encoding='utf-8', compression='gzip')"
   ]
  },
  {
   "cell_type": "code",
   "execution_count": 51,
   "id": "771d3e52",
   "metadata": {},
   "outputs": [
    {
     "data": {
      "text/plain": [
       "[{'adult': False,\n",
       "  'id': 25449,\n",
       "  'original_title': 'New World Disorder 9: Never Enough',\n",
       "  'popularity': 0.907,\n",
       "  'video': False},\n",
       " {'adult': False,\n",
       "  'id': 2,\n",
       "  'original_title': 'Ariel',\n",
       "  'popularity': 9.857,\n",
       "  'video': False}]"
      ]
     },
     "execution_count": 51,
     "metadata": {},
     "output_type": "execute_result"
    }
   ],
   "source": [
    "\n",
    "list_movie_ids[1:3]"
   ]
  },
  {
   "cell_type": "code",
   "execution_count": 52,
   "id": "c8774b4d",
   "metadata": {},
   "outputs": [],
   "source": [
    "# adding tmdb_movie_ids.csv.gz to zippedData folder\n",
    "\n",
    "pd.DataFrame(list_movie_ids).to_csv(\"data/zippedData/tmdb_movie_ids.csv.gz\", encoding='utf-8', compression='gzip')\n",
    "\n"
   ]
  },
  {
   "cell_type": "code",
   "execution_count": 53,
   "id": "32ab437e",
   "metadata": {},
   "outputs": [],
   "source": [
    "# get genre_info and save it in zippedData as gzip\n",
    "\n",
    "query = 'https://api.themoviedb.org/3/genre/movie/list?api_key='+API_key+'&language=en-US'\n",
    "response =  requests.get(query)\n",
    "\n",
    "pd.DataFrame(response.json()['genres']).to_csv(\"data/zippedData/tmdb_genres.csv.gz\", encoding='utf-8', compression='gzip')\n",
    "\n"
   ]
  },
  {
   "cell_type": "code",
   "execution_count": 61,
   "id": "b8305c48",
   "metadata": {},
   "outputs": [
    {
     "data": {
      "text/plain": [
       "dict_keys(['bom.movie_gross', 'imdb.name.basics', 'imdb.title.akas', 'imdb.title.basics', 'imdb.title.crew', 'imdb.title.principals', 'imdb.title.ratings', 'rt.movie_info.tsv.gz', 'rt.reviews.tsv.gz', 'tmdb.movies', 'tmdb_genres', 'tmdb_imdb_gross', 'tmdb_movie_ids', 'tn.movie_budgets'])"
      ]
     },
     "execution_count": 61,
     "metadata": {},
     "output_type": "execute_result"
    }
   ],
   "source": [
    "# loading all files into a dictionary\n",
    "\n",
    "with open ('file_list.txt', 'r') as f:\n",
    "    file_list= f.readlines()\n",
    "    \n",
    "csv_dict = {}\n",
    "\n",
    "for csv in file_list:\n",
    "    file='data/ZippedData/'+csv.strip()\n",
    "    df_name=csv.strip()\n",
    "    df_name=df_name.split('.csv.gz')[0]\n",
    "    if 'csv' in file:\n",
    "        df=pd.read_csv(file, compression='gzip')\n",
    "    elif 'tsv' in file:\n",
    "        df=pd.read_csv(file, compression='gzip', delimiter='\\t', encoding='latin-1')\n",
    "    else: print(file, \": unkown file!\")\n",
    "    csv_dict[df_name] = df\n",
    "\n",
    "csv_dict.keys()\n"
   ]
  },
  {
   "cell_type": "code",
   "execution_count": 67,
   "id": "64d40e7f",
   "metadata": {},
   "outputs": [
    {
     "data": {
      "text/plain": [
       "331097"
      ]
     },
     "execution_count": 67,
     "metadata": {},
     "output_type": "execute_result"
    }
   ],
   "source": [
    "# creating a list of in house tmdb id's:\n",
    "\n",
    "#id_list=list(csv_dict.get(\"tmdb.movies\")[\"id\"])\n",
    "#id_list=list(set(id_list))\n",
    "#len(id_list)\n",
    "\n",
    "id_list=list(csv_dict.get(\"tmdb_movie_ids\")[\"id\"])\n",
    "len(set(id_list))"
   ]
  },
  {
   "cell_type": "code",
   "execution_count": 88,
   "id": "3072156b",
   "metadata": {},
   "outputs": [
    {
     "data": {
      "text/plain": [
       "dict_keys(['adult', 'backdrop_path', 'belongs_to_collection', 'budget', 'genres', 'homepage', 'id', 'imdb_id', 'original_language', 'original_title', 'overview', 'popularity', 'poster_path', 'production_companies', 'production_countries', 'release_date', 'revenue', 'runtime', 'spoken_languages', 'status', 'tagline', 'title', 'video', 'vote_average', 'vote_count'])"
      ]
     },
     "execution_count": 88,
     "metadata": {},
     "output_type": "execute_result"
    }
   ],
   "source": [
    "# Define function to get tmdb details (budget,revenue, corresponding imdb id)\n",
    "\n",
    "\n",
    "def get_data(API_key, Movie_ID):\n",
    "    query = 'https://api.themoviedb.org/3/movie/'+Movie_ID+'?api_key='+API_key+'&language=en-US'\n",
    "    response =  requests.get(query)\n",
    "    if response.status_code==200: \n",
    "\n",
    "        array = response.json()\n",
    "        return array\n",
    "    else:\n",
    "        return (\"error\")\n",
    "\n",
    "Sample_MovieID=\"10138\"\n",
    "\n",
    "get_data(API_key, Sample_MovieID).keys()\n",
    "\n",
    "#get_data(API_key, Sample_MovieID)[\"genres\"]"
   ]
  },
  {
   "cell_type": "code",
   "execution_count": 86,
   "id": "53de41b4",
   "metadata": {},
   "outputs": [
    {
     "data": {
      "text/plain": [
       "[12, 28, 878]"
      ]
     },
     "execution_count": 86,
     "metadata": {},
     "output_type": "execute_result"
    }
   ],
   "source": [
    "\n",
    "def get_genre (my_dict):\n",
    "    id_list=[genre['id'] for genre in my_dict]\n",
    "    return id_list\n",
    "\n",
    "  \n",
    "get_genre(get_data(API_key, Sample_MovieID)[\"genres\"])       "
   ]
  },
  {
   "cell_type": "code",
   "execution_count": 69,
   "id": "ba3092c3",
   "metadata": {},
   "outputs": [],
   "source": [
    "# get genre_info and save it in zippedData as gzip\n",
    "\n",
    "query = 'https://api.themoviedb.org/3/genre/movie/list?api_key='+API_key+'&language=en-US'\n",
    "response =  requests.get(query)\n",
    "\n",
    "pd.DataFrame(response.json()['genres']).to_csv(\"data/zippedData/tmdb_genres.csv.gz\", encoding='utf-8', compression='gzip')\n",
    "\n"
   ]
  },
  {
   "cell_type": "code",
   "execution_count": 89,
   "id": "75f183b6",
   "metadata": {},
   "outputs": [],
   "source": [
    "## Uncomment this section to download imdb_id/tmdb_id information as well as revenue/budget information from API:\n",
    "tmdb_list=[]\n",
    "tmdb_dic={}\n",
    "for num,movie_id in enumerate(id_list):\n",
    "    movie_json=get_data(API_key, str(movie_id))\n",
    "    if movie_json != \"error\":\n",
    "        tmdb_dict = {\"id\":movie_json[\"id\"], \"tconst\":movie_json[\"imdb_id\"], \"title\":movie_json[\"title\"], \"release_date\":movie_json[\"release_date\"], \n",
    "                    \"revenue\": movie_json[\"revenue\"], \"budget\": movie_json[\"budget\"],\"vote_average\":movie_json[\"vote_average\"],\n",
    "                    \"popularity\":movie_json[\"popularity\"], \"vote_count\":movie_json[\"vote_count\"], \n",
    "                     \"runtime\":movie_json[\"runtime\"], \"genres\":get_genre(movie_json[\"genres\"]) }\n",
    "        tmdb_list.append(tmdb_dict)\n",
    "#        if num == 5:\n",
    "#            break\n",
    "\n",
    "\n",
    "pd.DataFrame(tmdb_list).to_csv(\"data/zippedData/tmdb_imdb_gross_full.csv.gz\", encoding='utf-8', compression='gzip')\n"
   ]
  },
  {
   "cell_type": "code",
   "execution_count": 90,
   "id": "8dd52aed",
   "metadata": {},
   "outputs": [
    {
     "data": {
      "text/plain": [
       "[{'id': 6124,\n",
       "  'tconst': 'tt0011436',\n",
       "  'title': 'Peter Voss, Thief of Millions',\n",
       "  'release_date': '1921-01-01',\n",
       "  'revenue': 0,\n",
       "  'budget': 0,\n",
       "  'vote_average': 0.0,\n",
       "  'popularity': 0.6,\n",
       "  'vote_count': 0,\n",
       "  'runtime': 420,\n",
       "  'genres': [12]},\n",
       " {'id': 25449,\n",
       "  'tconst': '',\n",
       "  'title': 'New World Disorder 9: Never Enough',\n",
       "  'release_date': '2008-12-08',\n",
       "  'revenue': 0,\n",
       "  'budget': 0,\n",
       "  'vote_average': 6.0,\n",
       "  'popularity': 1.4,\n",
       "  'vote_count': 3,\n",
       "  'runtime': 69,\n",
       "  'genres': []},\n",
       " {'id': 2,\n",
       "  'tconst': 'tt0094675',\n",
       "  'title': 'Ariel',\n",
       "  'release_date': '1988-10-21',\n",
       "  'revenue': 0,\n",
       "  'budget': 0,\n",
       "  'vote_average': 6.8,\n",
       "  'popularity': 9.654,\n",
       "  'vote_count': 154,\n",
       "  'runtime': 73,\n",
       "  'genres': [18, 80, 35]},\n",
       " {'id': 5,\n",
       "  'tconst': 'tt0113101',\n",
       "  'title': 'Four Rooms',\n",
       "  'release_date': '1995-12-09',\n",
       "  'revenue': 4257354,\n",
       "  'budget': 4000000,\n",
       "  'vote_average': 5.7,\n",
       "  'popularity': 18.985,\n",
       "  'vote_count': 2122,\n",
       "  'runtime': 98,\n",
       "  'genres': [80, 35]},\n",
       " {'id': 8,\n",
       "  'tconst': 'tt0825671',\n",
       "  'title': 'Life in Loops (A Megacities RMX)',\n",
       "  'release_date': '2006-01-01',\n",
       "  'revenue': 0,\n",
       "  'budget': 42000,\n",
       "  'vote_average': 7.5,\n",
       "  'popularity': 1.365,\n",
       "  'vote_count': 18,\n",
       "  'runtime': 80,\n",
       "  'genres': [99]},\n",
       " {'id': 11,\n",
       "  'tconst': 'tt0076759',\n",
       "  'title': 'Star Wars',\n",
       "  'release_date': '1977-05-25',\n",
       "  'revenue': 775398007,\n",
       "  'budget': 11000000,\n",
       "  'vote_average': 8.2,\n",
       "  'popularity': 90.969,\n",
       "  'vote_count': 16952,\n",
       "  'runtime': 121,\n",
       "  'genres': [12, 28, 878]}]"
      ]
     },
     "execution_count": 90,
     "metadata": {},
     "output_type": "execute_result"
    }
   ],
   "source": [
    "tmdb_list"
   ]
  },
  {
   "cell_type": "code",
   "execution_count": null,
   "id": "d15240c6",
   "metadata": {},
   "outputs": [],
   "source": []
  }
 ],
 "metadata": {
  "kernelspec": {
   "display_name": "Python 3 (ipykernel)",
   "language": "python",
   "name": "python3"
  },
  "language_info": {
   "codemirror_mode": {
    "name": "ipython",
    "version": 3
   },
   "file_extension": ".py",
   "mimetype": "text/x-python",
   "name": "python",
   "nbconvert_exporter": "python",
   "pygments_lexer": "ipython3",
   "version": "3.9.7"
  }
 },
 "nbformat": 4,
 "nbformat_minor": 5
}
