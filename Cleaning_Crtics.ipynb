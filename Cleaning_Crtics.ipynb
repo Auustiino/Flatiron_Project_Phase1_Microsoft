{
 "cells": [
  {
   "cell_type": "code",
   "execution_count": 142,
   "metadata": {},
   "outputs": [],
   "source": [
    "import pandas as pd \n",
    "import csv\n"
   ]
  },
  {
   "cell_type": "code",
   "execution_count": 143,
   "metadata": {},
   "outputs": [
    {
     "data": {
      "text/plain": [
       "<function dict.keys>"
      ]
     },
     "execution_count": 143,
     "metadata": {},
     "output_type": "execute_result"
    }
   ],
   "source": [
    "with open ('file_list.txt', 'r') as f:\n",
    "    csv_list= f.readlines()\n",
    "file_dict = {}\n",
    "for csv in csv_list:\n",
    "    key='ZippedData/'+csv.strip()\n",
    "    df_name=csv.strip()\n",
    "    df_name=df_name.split('.csv.gz')[0]\n",
    "    df=pd.read_csv(key, compression='gzip')\n",
    "    file_dict[df_name] = df\n",
    "file_dict.keys"
   ]
  },
  {
   "cell_type": "code",
   "execution_count": 144,
   "metadata": {},
   "outputs": [],
   "source": [
    "rt_reviews = pd.read_csv('zippedData/rt.reviews.tsv.gz',sep = '\\t', compression = 'gzip', encoding = 'latin-1' )\n",
    "\n",
    "rt_movie_info = pd.read_csv('zippedData/rt.movie_info.tsv.gz',sep = '\\t', compression = 'gzip', encoding = 'latin-1' )\n",
    "\n"
   ]
  },
  {
   "cell_type": "code",
   "execution_count": 145,
   "metadata": {},
   "outputs": [
    {
     "data": {
      "text/html": [
       "<div>\n",
       "<style scoped>\n",
       "    .dataframe tbody tr th:only-of-type {\n",
       "        vertical-align: middle;\n",
       "    }\n",
       "\n",
       "    .dataframe tbody tr th {\n",
       "        vertical-align: top;\n",
       "    }\n",
       "\n",
       "    .dataframe thead th {\n",
       "        text-align: right;\n",
       "    }\n",
       "</style>\n",
       "<table border=\"1\" class=\"dataframe\">\n",
       "  <thead>\n",
       "    <tr style=\"text-align: right;\">\n",
       "      <th></th>\n",
       "      <th>id</th>\n",
       "      <th>director</th>\n",
       "      <th>runtime</th>\n",
       "      <th>rating_x</th>\n",
       "      <th>rating_y</th>\n",
       "      <th>critic</th>\n",
       "    </tr>\n",
       "  </thead>\n",
       "  <tbody>\n",
       "    <tr>\n",
       "      <th>0</th>\n",
       "      <td>3</td>\n",
       "      <td>David Cronenberg</td>\n",
       "      <td>108 minutes</td>\n",
       "      <td>R</td>\n",
       "      <td>3/5</td>\n",
       "      <td>PJ Nabarro</td>\n",
       "    </tr>\n",
       "  </tbody>\n",
       "</table>\n",
       "</div>"
      ],
      "text/plain": [
       "   id          director      runtime rating_x rating_y      critic\n",
       "0   3  David Cronenberg  108 minutes        R      3/5  PJ Nabarro"
      ]
     },
     "execution_count": 145,
     "metadata": {},
     "output_type": "execute_result"
    }
   ],
   "source": [
    "rt_reviews_info = rt_movie_info[['id', 'director', 'runtime', 'rating']]\n",
    "\n",
    "rt_reviews_cleaned = rt_reviews[['id', 'rating', 'critic']]\n",
    "rt_df = rt_reviews_info.merge(rt_reviews_cleaned, how = 'inner', on = 'id')\n",
    "\n",
    "rt_df.head(1)"
   ]
  },
  {
   "cell_type": "code",
   "execution_count": 147,
   "metadata": {},
   "outputs": [],
   "source": [
    "# NORMALIZE RATINGS RATING>FLOAT\n",
    "\n",
    "def norm_ratings(rating):\n",
    "    grades = {\"A\":10,\"B\":8,\"C\":6,\"D\":4,\"F\":2,\"A+\":10,\"B+\":9,\"C+\":7,\"D+\":5,\\\n",
    "              \"F+\":3,\"A-\":9,\"B-\":7,\"C-\":5,\"D-\":3,\"F-\":0, '3 1/2': 3.5, 'T': None, 'N':None, 'R':None}\n",
    "    \n",
    "    if rating in grades.keys():\n",
    "        norm=grades[rating]\n",
    "        return norm\n",
    "    elif ('/') in rating:\n",
    "        r = rating.split('/')\n",
    "        norm = float(r[0])/float(r[1])*10\n",
    "        return norm\n",
    "    elif ('-') in rating and len(rating) > 2:\n",
    "        r = rating.split('-')\n",
    "        norm = float(r[0])/float(r[1])*10\n",
    "        return norm\n",
    "    else:\n",
    "        norm = float(rating)\n",
    "        return norm\n",
    "\n",
    "    \n",
    "    \n",
    "rt_df.dropna(subset=['rating_y'],inplace=True)    \n",
    "rt_df['critic_rating'] = rt_df['rating_y'].apply(norm_ratings)"
   ]
  },
  {
   "cell_type": "code",
   "execution_count": 148,
   "metadata": {},
   "outputs": [
    {
     "data": {
      "text/html": [
       "<div>\n",
       "<style scoped>\n",
       "    .dataframe tbody tr th:only-of-type {\n",
       "        vertical-align: middle;\n",
       "    }\n",
       "\n",
       "    .dataframe tbody tr th {\n",
       "        vertical-align: top;\n",
       "    }\n",
       "\n",
       "    .dataframe thead th {\n",
       "        text-align: right;\n",
       "    }\n",
       "</style>\n",
       "<table border=\"1\" class=\"dataframe\">\n",
       "  <thead>\n",
       "    <tr style=\"text-align: right;\">\n",
       "      <th></th>\n",
       "      <th>id</th>\n",
       "      <th>director</th>\n",
       "      <th>runtime</th>\n",
       "      <th>rating_x</th>\n",
       "      <th>critic</th>\n",
       "      <th>critic_rating</th>\n",
       "    </tr>\n",
       "  </thead>\n",
       "  <tbody>\n",
       "    <tr>\n",
       "      <th>0</th>\n",
       "      <td>3</td>\n",
       "      <td>David Cronenberg</td>\n",
       "      <td>108</td>\n",
       "      <td>R</td>\n",
       "      <td>PJ Nabarro</td>\n",
       "      <td>6.0</td>\n",
       "    </tr>\n",
       "    <tr>\n",
       "      <th>6</th>\n",
       "      <td>3</td>\n",
       "      <td>David Cronenberg</td>\n",
       "      <td>108</td>\n",
       "      <td>R</td>\n",
       "      <td>Eric D. Snider</td>\n",
       "      <td>6.0</td>\n",
       "    </tr>\n",
       "    <tr>\n",
       "      <th>7</th>\n",
       "      <td>3</td>\n",
       "      <td>David Cronenberg</td>\n",
       "      <td>108</td>\n",
       "      <td>R</td>\n",
       "      <td>Matt Kelemen</td>\n",
       "      <td>4.0</td>\n",
       "    </tr>\n",
       "    <tr>\n",
       "      <th>11</th>\n",
       "      <td>3</td>\n",
       "      <td>David Cronenberg</td>\n",
       "      <td>108</td>\n",
       "      <td>R</td>\n",
       "      <td>Emanuel Levy</td>\n",
       "      <td>7.0</td>\n",
       "    </tr>\n",
       "    <tr>\n",
       "      <th>12</th>\n",
       "      <td>3</td>\n",
       "      <td>David Cronenberg</td>\n",
       "      <td>108</td>\n",
       "      <td>R</td>\n",
       "      <td>Christian Toto</td>\n",
       "      <td>5.0</td>\n",
       "    </tr>\n",
       "  </tbody>\n",
       "</table>\n",
       "</div>"
      ],
      "text/plain": [
       "    id          director  runtime rating_x          critic  critic_rating\n",
       "0    3  David Cronenberg      108        R      PJ Nabarro            6.0\n",
       "6    3  David Cronenberg      108        R  Eric D. Snider            6.0\n",
       "7    3  David Cronenberg      108        R    Matt Kelemen            4.0\n",
       "11   3  David Cronenberg      108        R    Emanuel Levy            7.0\n",
       "12   3  David Cronenberg      108        R  Christian Toto            5.0"
      ]
     },
     "execution_count": 148,
     "metadata": {},
     "output_type": "execute_result"
    }
   ],
   "source": [
    "# CLEAN RUNTIMES FLOAT>INT\n",
    "\n",
    "def clean_runtime(runtime):\n",
    "    minutes = runtime.split()[0]\n",
    "    return int(minutes) \n",
    "\n",
    "\n",
    "rt_df.dropna(subset=['runtime'],inplace=True)    \n",
    "rt_df['runtime'] = rt_df['runtime'].apply(clean_runtime)\n",
    "rt_df.drop(columns = 'rating_y', inplace = True)\n",
    "rt_df.head()"
   ]
  },
  {
   "cell_type": "code",
   "execution_count": 149,
   "metadata": {
    "scrolled": true
   },
   "outputs": [
    {
     "data": {
      "text/html": [
       "<div>\n",
       "<style scoped>\n",
       "    .dataframe tbody tr th:only-of-type {\n",
       "        vertical-align: middle;\n",
       "    }\n",
       "\n",
       "    .dataframe tbody tr th {\n",
       "        vertical-align: top;\n",
       "    }\n",
       "\n",
       "    .dataframe thead th {\n",
       "        text-align: right;\n",
       "    }\n",
       "</style>\n",
       "<table border=\"1\" class=\"dataframe\">\n",
       "  <thead>\n",
       "    <tr style=\"text-align: right;\">\n",
       "      <th></th>\n",
       "      <th>id</th>\n",
       "      <th>director</th>\n",
       "      <th>runtime</th>\n",
       "      <th>rating_x</th>\n",
       "      <th>critic</th>\n",
       "      <th>critic_rating</th>\n",
       "      <th>nconst</th>\n",
       "    </tr>\n",
       "  </thead>\n",
       "  <tbody>\n",
       "    <tr>\n",
       "      <th>0</th>\n",
       "      <td>3</td>\n",
       "      <td>David Cronenberg</td>\n",
       "      <td>108</td>\n",
       "      <td>R</td>\n",
       "      <td>PJ Nabarro</td>\n",
       "      <td>6.0</td>\n",
       "      <td>nm0000343</td>\n",
       "    </tr>\n",
       "    <tr>\n",
       "      <th>1</th>\n",
       "      <td>3</td>\n",
       "      <td>David Cronenberg</td>\n",
       "      <td>108</td>\n",
       "      <td>R</td>\n",
       "      <td>Eric D. Snider</td>\n",
       "      <td>6.0</td>\n",
       "      <td>nm0000343</td>\n",
       "    </tr>\n",
       "    <tr>\n",
       "      <th>2</th>\n",
       "      <td>3</td>\n",
       "      <td>David Cronenberg</td>\n",
       "      <td>108</td>\n",
       "      <td>R</td>\n",
       "      <td>Matt Kelemen</td>\n",
       "      <td>4.0</td>\n",
       "      <td>nm0000343</td>\n",
       "    </tr>\n",
       "    <tr>\n",
       "      <th>3</th>\n",
       "      <td>3</td>\n",
       "      <td>David Cronenberg</td>\n",
       "      <td>108</td>\n",
       "      <td>R</td>\n",
       "      <td>Emanuel Levy</td>\n",
       "      <td>7.0</td>\n",
       "      <td>nm0000343</td>\n",
       "    </tr>\n",
       "    <tr>\n",
       "      <th>4</th>\n",
       "      <td>3</td>\n",
       "      <td>David Cronenberg</td>\n",
       "      <td>108</td>\n",
       "      <td>R</td>\n",
       "      <td>Christian Toto</td>\n",
       "      <td>5.0</td>\n",
       "      <td>nm0000343</td>\n",
       "    </tr>\n",
       "  </tbody>\n",
       "</table>\n",
       "</div>"
      ],
      "text/plain": [
       "   id          director  runtime rating_x          critic  critic_rating  \\\n",
       "0   3  David Cronenberg      108        R      PJ Nabarro            6.0   \n",
       "1   3  David Cronenberg      108        R  Eric D. Snider            6.0   \n",
       "2   3  David Cronenberg      108        R    Matt Kelemen            4.0   \n",
       "3   3  David Cronenberg      108        R    Emanuel Levy            7.0   \n",
       "4   3  David Cronenberg      108        R  Christian Toto            5.0   \n",
       "\n",
       "      nconst  \n",
       "0  nm0000343  \n",
       "1  nm0000343  \n",
       "2  nm0000343  \n",
       "3  nm0000343  \n",
       "4  nm0000343  "
      ]
     },
     "execution_count": 149,
     "metadata": {},
     "output_type": "execute_result"
    }
   ],
   "source": [
    "# ADDING DIRECTOR NAME ID TO RT_DF\n",
    "\n",
    "name_key = file_dict['imdb.name.basics'][['nconst', 'primary_name']]\n",
    "\n",
    "\n",
    "\n",
    "\n",
    "rt_df = rt_df.merge(name_key, left_on = 'director', right_on = 'primary_name')\n",
    "rt_df = rt_df.drop(columns = 'primary_name')\n",
    "\n",
    "rt_df.head()"
   ]
  },
  {
   "cell_type": "code",
   "execution_count": 150,
   "metadata": {},
   "outputs": [],
   "source": [
    "movie_director_code = file_dict['imdb.title.crew'][['tconst', 'directors']]\n",
    "movie_director_code['director'] = movie_director_code['directors'].str.split(',')\n",
    "movie_director_code.drop(columns = 'directors', inplace = True)\n",
    "movie_director_code = movie_director_code.explode('director')\n",
    "\n"
   ]
  },
  {
   "cell_type": "code",
   "execution_count": 151,
   "metadata": {},
   "outputs": [
    {
     "name": "stdout",
     "output_type": "stream",
     "text": [
      "<class 'pandas.core.frame.DataFrame'>\n",
      "Int64Index: 169262 entries, 0 to 169261\n",
      "Data columns (total 5 columns):\n",
      " #   Column           Non-Null Count   Dtype  \n",
      "---  ------           --------------   -----  \n",
      " 0   tconst           169262 non-null  object \n",
      " 1   primary_title    169262 non-null  object \n",
      " 2   original_title   169240 non-null  object \n",
      " 3   runtime_minutes  133324 non-null  float64\n",
      " 4   director         163535 non-null  object \n",
      "dtypes: float64(1), object(4)\n",
      "memory usage: 7.7+ MB\n"
     ]
    }
   ],
   "source": [
    "movie_id_names_time = file_dict['imdb.title.basics'][['tconst', 'primary_title', 'original_title', 'runtime_minutes']]\n",
    "half_way_clean = movie_id_names_time.merge(movie_director_code, how = 'inner', on = 'tconst')\n",
    "half_way_clean.info()"
   ]
  },
  {
   "cell_type": "code",
   "execution_count": 152,
   "metadata": {},
   "outputs": [],
   "source": [
    "def float_conv(flt):\n",
    "    integer = int(flt)\n",
    "    return integer\n",
    "\n",
    "\n",
    "half_way_clean.dropna(subset = ['runtime_minutes'], inplace = True)\n",
    "half_way_clean['runtime_minutes'] = half_way_clean['runtime_minutes'].apply(float_conv)"
   ]
  },
  {
   "cell_type": "code",
   "execution_count": 153,
   "metadata": {},
   "outputs": [
    {
     "data": {
      "text/html": [
       "<div>\n",
       "<style scoped>\n",
       "    .dataframe tbody tr th:only-of-type {\n",
       "        vertical-align: middle;\n",
       "    }\n",
       "\n",
       "    .dataframe tbody tr th {\n",
       "        vertical-align: top;\n",
       "    }\n",
       "\n",
       "    .dataframe thead th {\n",
       "        text-align: right;\n",
       "    }\n",
       "</style>\n",
       "<table border=\"1\" class=\"dataframe\">\n",
       "  <thead>\n",
       "    <tr style=\"text-align: right;\">\n",
       "      <th></th>\n",
       "      <th>id</th>\n",
       "      <th>director</th>\n",
       "      <th>runtime</th>\n",
       "      <th>rating_x</th>\n",
       "      <th>critic</th>\n",
       "      <th>critic_rating</th>\n",
       "      <th>nconst</th>\n",
       "    </tr>\n",
       "  </thead>\n",
       "  <tbody>\n",
       "    <tr>\n",
       "      <th>0</th>\n",
       "      <td>3</td>\n",
       "      <td>David Cronenberg</td>\n",
       "      <td>108</td>\n",
       "      <td>R</td>\n",
       "      <td>PJ Nabarro</td>\n",
       "      <td>6.0</td>\n",
       "      <td>nm0000343</td>\n",
       "    </tr>\n",
       "  </tbody>\n",
       "</table>\n",
       "</div>"
      ],
      "text/plain": [
       "   id          director  runtime rating_x      critic  critic_rating  \\\n",
       "0   3  David Cronenberg      108        R  PJ Nabarro            6.0   \n",
       "\n",
       "      nconst  \n",
       "0  nm0000343  "
      ]
     },
     "execution_count": 153,
     "metadata": {},
     "output_type": "execute_result"
    }
   ],
   "source": [
    "# half_way_clean.head(1)\n",
    "rt_df.head(1)"
   ]
  },
  {
   "cell_type": "code",
   "execution_count": 163,
   "metadata": {
    "scrolled": false
   },
   "outputs": [
    {
     "data": {
      "text/plain": [
       "87"
      ]
     },
     "execution_count": 163,
     "metadata": {},
     "output_type": "execute_result"
    }
   ],
   "source": [
    "# combined_df = rt_df.merge(half_way_clean, left_on = ['runtime', 'nconst'], right_on = ['runtime_minutes', 'director'])\n",
    "\n",
    "len(combined_df['id'].unique())\n",
    "# combined_df.head()"
   ]
  },
  {
   "cell_type": "code",
   "execution_count": null,
   "metadata": {},
   "outputs": [],
   "source": []
  }
 ],
 "metadata": {
  "kernelspec": {
   "display_name": "Python 3 (ipykernel)",
   "language": "python",
   "name": "python3"
  },
  "language_info": {
   "codemirror_mode": {
    "name": "ipython",
    "version": 3
   },
   "file_extension": ".py",
   "mimetype": "text/x-python",
   "name": "python",
   "nbconvert_exporter": "python",
   "pygments_lexer": "ipython3",
   "version": "3.8.5"
  }
 },
 "nbformat": 4,
 "nbformat_minor": 4
}
