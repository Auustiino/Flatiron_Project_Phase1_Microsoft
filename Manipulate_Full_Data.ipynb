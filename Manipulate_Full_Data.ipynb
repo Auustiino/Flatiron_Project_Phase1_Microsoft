{
 "cells": [
  {
   "cell_type": "markdown",
   "id": "ce284fa7",
   "metadata": {},
   "source": [
    "# Microsoft Recommendations"
   ]
  },
  {
   "cell_type": "code",
   "execution_count": 1,
   "id": "642f86da",
   "metadata": {},
   "outputs": [],
   "source": [
    "# %run code/add_data.py\n",
    "import numpy as np\n",
    "import pandas as pd\n",
    "pd.options.display.float_format = '{:,}'.format\n",
    "from pandasql import sqldf\n",
    "import json\n",
    "import requests\n",
    "import os\n",
    "import seaborn as sns\n",
    "\n",
    "\n",
    "import matplotlib.pyplot as plt\n",
    "import matplotlib.ticker as ticker\n",
    "%matplotlib inline\n",
    "#os.system(\"ls data/zippedData | grep sv > file_list.txt\")\n",
    "\n",
    "\n"
   ]
  },
  {
   "cell_type": "code",
   "execution_count": 6,
   "id": "9e91c5a3",
   "metadata": {},
   "outputs": [],
   "source": [
    "%run code/data_preparations.py\n",
    "csv_dict.keys()"
   ]
  },
  {
   "cell_type": "code",
   "execution_count": 4,
   "id": "40b51dae",
   "metadata": {},
   "outputs": [
    {
     "data": {
      "text/html": [
       "<div>\n",
       "<style scoped>\n",
       "    .dataframe tbody tr th:only-of-type {\n",
       "        vertical-align: middle;\n",
       "    }\n",
       "\n",
       "    .dataframe tbody tr th {\n",
       "        vertical-align: top;\n",
       "    }\n",
       "\n",
       "    .dataframe thead th {\n",
       "        text-align: right;\n",
       "    }\n",
       "</style>\n",
       "<table border=\"1\" class=\"dataframe\">\n",
       "  <thead>\n",
       "    <tr style=\"text-align: right;\">\n",
       "      <th></th>\n",
       "      <th>id</th>\n",
       "      <th>tconst</th>\n",
       "      <th>title</th>\n",
       "      <th>release_date</th>\n",
       "      <th>revenue</th>\n",
       "      <th>budget</th>\n",
       "      <th>net_profit</th>\n",
       "      <th>year</th>\n",
       "      <th>vote_average</th>\n",
       "      <th>popularity</th>\n",
       "      <th>vote_count</th>\n",
       "      <th>runtime</th>\n",
       "      <th>genres</th>\n",
       "    </tr>\n",
       "  </thead>\n",
       "  <tbody>\n",
       "    <tr>\n",
       "      <th>0</th>\n",
       "      <td>5</td>\n",
       "      <td>tt0113101</td>\n",
       "      <td>Four Rooms</td>\n",
       "      <td>1995-12-09</td>\n",
       "      <td>4,257,354.0</td>\n",
       "      <td>4,000,000.0</td>\n",
       "      <td>257,354.0</td>\n",
       "      <td>1995</td>\n",
       "      <td>5</td>\n",
       "      <td>15</td>\n",
       "      <td>2123</td>\n",
       "      <td>98.0</td>\n",
       "      <td>[80, 35]</td>\n",
       "    </tr>\n",
       "    <tr>\n",
       "      <th>1</th>\n",
       "      <td>11</td>\n",
       "      <td>tt0076759</td>\n",
       "      <td>Star Wars</td>\n",
       "      <td>1977-05-25</td>\n",
       "      <td>775,398,007.0</td>\n",
       "      <td>11,000,000.0</td>\n",
       "      <td>764,398,007.0</td>\n",
       "      <td>1977</td>\n",
       "      <td>8</td>\n",
       "      <td>90</td>\n",
       "      <td>16953</td>\n",
       "      <td>121.0</td>\n",
       "      <td>[12, 28, 878]</td>\n",
       "    </tr>\n",
       "  </tbody>\n",
       "</table>\n",
       "</div>"
      ],
      "text/plain": [
       "   id     tconst       title release_date       revenue       budget  \\\n",
       "0   5  tt0113101  Four Rooms   1995-12-09   4,257,354.0  4,000,000.0   \n",
       "1  11  tt0076759   Star Wars   1977-05-25 775,398,007.0 11,000,000.0   \n",
       "\n",
       "     net_profit  year  vote_average  popularity  vote_count  runtime  \\\n",
       "0     257,354.0  1995             5          15        2123     98.0   \n",
       "1 764,398,007.0  1977             8          90       16953    121.0   \n",
       "\n",
       "          genres  \n",
       "0       [80, 35]  \n",
       "1  [12, 28, 878]  "
      ]
     },
     "execution_count": 4,
     "metadata": {},
     "output_type": "execute_result"
    }
   ],
   "source": [
    "full_profit_df.head(2)"
   ]
  },
  {
   "cell_type": "code",
   "execution_count": 7,
   "id": "a6a61a35",
   "metadata": {},
   "outputs": [],
   "source": [
    "full_profit_df[\"genre_id\"]=full_profit_df['genres'].apply(clean_genres)\n",
    "full_profit_df.drop(columns='genres', inplace=True)\n",
    "full_profit_by_genre_id=full_profit_df.explode('genre_id')\n",
    "\n",
    "full_profit_by_genre=full_profit_by_genre_id.merge()"
   ]
  },
  {
   "cell_type": "code",
   "execution_count": 8,
   "id": "03f34c2d",
   "metadata": {},
   "outputs": [
    {
     "data": {
      "text/plain": [
       "dict_keys(['bom.movie_gross', 'imdb.name.basics', 'imdb.title.akas', 'imdb.title.basics', 'imdb.title.crew', 'imdb.title.principals', 'imdb.title.ratings', 'rt.movie_info', 'rt.reviews', 'tmdb.movies', 'tmdb_genres', 'tmdb_imdb_gross', 'tmdb_imdb_gross_full', 'tmdb_movie_ids', 'tn.movie_budgets'])"
      ]
     },
     "execution_count": 8,
     "metadata": {},
     "output_type": "execute_result"
    }
   ],
   "source": [
    "csv_dict.keys()"
   ]
  },
  {
   "cell_type": "code",
   "execution_count": null,
   "id": "a81db7ae",
   "metadata": {},
   "outputs": [],
   "source": [
    "summary_df=sep_genre_df.groupby(['genre'], as_index=False).mean().sort_values(by=\"total_gross\", ascending=False)[['genre','total_gross']]\n",
    "#summary_df=summary_df.loc[:22]\n",
    "summary_df"
   ]
  }
 ],
 "metadata": {
  "kernelspec": {
   "display_name": "Python 3 (ipykernel)",
   "language": "python",
   "name": "python3"
  },
  "language_info": {
   "codemirror_mode": {
    "name": "ipython",
    "version": 3
   },
   "file_extension": ".py",
   "mimetype": "text/x-python",
   "name": "python",
   "nbconvert_exporter": "python",
   "pygments_lexer": "ipython3",
   "version": "3.9.7"
  }
 },
 "nbformat": 4,
 "nbformat_minor": 5
}
