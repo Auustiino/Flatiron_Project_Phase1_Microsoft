{
 "cells": [
  {
   "cell_type": "code",
   "execution_count": 556,
   "id": "19f09e69",
   "metadata": {},
   "outputs": [],
   "source": [
    "# %run code/add_data.py\n",
    "import numpy as np\n",
    "import pandas as pd\n",
    "pd.options.display.float_format = '{:,}'.format\n",
    "from pandasql import sqldf\n",
    "import json\n",
    "import requests\n",
    "import os\n",
    "import seaborn as sns\n",
    "\n",
    "os.system(\"ls data/zippedData | grep sv > file_list.txt\")\n",
    "\n",
    "import matplotlib.pyplot as plt\n",
    "import matplotlib.ticker as ticker\n",
    "%matplotlib inline\n",
    "\n"
   ]
  },
  {
   "cell_type": "code",
   "execution_count": 557,
   "id": "10adb98b",
   "metadata": {},
   "outputs": [],
   "source": [
    "with open ('file_list.txt', 'r') as f:\n",
    "    file_list= f.readlines()\n",
    "    \n",
    "csv_dict = {}\n",
    "\n",
    "for csv in file_list:\n",
    "    file='data/ZippedData/'+csv.strip()\n",
    "    df_name=csv.strip()\n",
    "    if 'csv' in file:\n",
    "        df_name=df_name.split('.csv.gz')[0]\n",
    "        df=pd.read_csv(file, compression='gzip')\n",
    "    elif 'tsv' in file:\n",
    "        df_name=df_name.split('.tsv.gz')[0]\n",
    "        df=pd.read_csv(file, compression='gzip', delimiter='\\t', encoding='latin-1')\n",
    "    else: print(file, \": unkown file!\")\n",
    "    csv_dict[df_name] = df\n",
    "    \n",
    "\n",
    "csv_dict.get('tmdb_imdb_gross_full').drop(columns=[\"Unnamed: 0\"], inplace=True)\n",
    "#csv_dict[\"tmdb_imdb_gross_full\"].drop(df.index[1], inplace=True)\n"
   ]
  },
  {
   "cell_type": "code",
   "execution_count": 735,
   "id": "979a7ab2",
   "metadata": {},
   "outputs": [],
   "source": [
    "def gross_to_num(gross_str):\n",
    "    try:\n",
    "        gross_num=float(gross_str.replace('$','').replace(',',''))\n",
    "        \n",
    "    except:\n",
    "        return np.NaN\n",
    "    else:\n",
    "        return gross_num\n",
    "    \n",
    "def extract_year(year_string):\n",
    "    if ',' in year_string:\n",
    "        return year_string.split(',')[1].strip()\n",
    "    else:\n",
    "        return(year_string)\n",
    "    \n",
    "def clean_genres(genre_str):\n",
    "    filter_list=[]\n",
    "    try:\n",
    "        filter_str=genre_str.replace('''[''','').replace(''']''','')\n",
    "    except:\n",
    "        None\n",
    "    else:\n",
    "        if filter_str == '': \n",
    "            filter_list=np.NaN\n",
    "        else:\n",
    "            filter_str=genre_str.replace('[','').replace(']','')\n",
    "            filter_list=filter_str.split(',')\n",
    "    return filter_list\n",
    "\n",
    "def clean_runtime(runtime):\n",
    "    minutes = runtime.split()[0]\n",
    "    return int(minutes)"
   ]
  },
  {
   "cell_type": "code",
   "execution_count": 559,
   "id": "40843b58",
   "metadata": {},
   "outputs": [
    {
     "name": "stdout",
     "output_type": "stream",
     "text": [
      "dict_keys(['bom.movie_gross', 'imdb.name.basics', 'imdb.title.akas', 'imdb.title.basics', 'imdb.title.crew', 'imdb.title.principals', 'imdb.title.ratings', 'rt.movie_info', 'rt.reviews', 'tmdb.movies', 'tmdb_genres', 'tmdb_imdb_gross', 'tmdb_imdb_gross_full', 'tmdb_movie_ids', 'tn.movie_budgets'])\n"
     ]
    }
   ],
   "source": [
    "print(csv_dict.keys())"
   ]
  },
  {
   "cell_type": "code",
   "execution_count": 560,
   "id": "2431a13c",
   "metadata": {},
   "outputs": [
    {
     "data": {
      "text/html": [
       "<div>\n",
       "<style scoped>\n",
       "    .dataframe tbody tr th:only-of-type {\n",
       "        vertical-align: middle;\n",
       "    }\n",
       "\n",
       "    .dataframe tbody tr th {\n",
       "        vertical-align: top;\n",
       "    }\n",
       "\n",
       "    .dataframe thead th {\n",
       "        text-align: right;\n",
       "    }\n",
       "</style>\n",
       "<table border=\"1\" class=\"dataframe\">\n",
       "  <thead>\n",
       "    <tr style=\"text-align: right;\">\n",
       "      <th></th>\n",
       "      <th>id</th>\n",
       "      <th>tconst</th>\n",
       "      <th>title</th>\n",
       "      <th>release_date</th>\n",
       "      <th>revenue</th>\n",
       "      <th>budget</th>\n",
       "      <th>vote_average</th>\n",
       "      <th>popularity</th>\n",
       "      <th>vote_count</th>\n",
       "      <th>runtime</th>\n",
       "      <th>genres</th>\n",
       "      <th>year</th>\n",
       "    </tr>\n",
       "  </thead>\n",
       "  <tbody>\n",
       "    <tr>\n",
       "      <th>0</th>\n",
       "      <td>6124</td>\n",
       "      <td>tt0011436</td>\n",
       "      <td>Peter Voss, Thief of Millions</td>\n",
       "      <td>1921-01-01</td>\n",
       "      <td>0</td>\n",
       "      <td>0</td>\n",
       "      <td>0</td>\n",
       "      <td>0</td>\n",
       "      <td>0</td>\n",
       "      <td>420.0</td>\n",
       "      <td>[12]</td>\n",
       "      <td>1921</td>\n",
       "    </tr>\n",
       "    <tr>\n",
       "      <th>1</th>\n",
       "      <td>25449</td>\n",
       "      <td>None</td>\n",
       "      <td>New World Disorder 9: Never Enough</td>\n",
       "      <td>2008-12-08</td>\n",
       "      <td>0</td>\n",
       "      <td>0</td>\n",
       "      <td>6</td>\n",
       "      <td>1</td>\n",
       "      <td>3</td>\n",
       "      <td>69.0</td>\n",
       "      <td>[]</td>\n",
       "      <td>2008</td>\n",
       "    </tr>\n",
       "    <tr>\n",
       "      <th>2</th>\n",
       "      <td>2</td>\n",
       "      <td>tt0094675</td>\n",
       "      <td>Ariel</td>\n",
       "      <td>1988-10-21</td>\n",
       "      <td>0</td>\n",
       "      <td>0</td>\n",
       "      <td>6</td>\n",
       "      <td>9</td>\n",
       "      <td>155</td>\n",
       "      <td>73.0</td>\n",
       "      <td>[18, 80, 35]</td>\n",
       "      <td>1988</td>\n",
       "    </tr>\n",
       "    <tr>\n",
       "      <th>3</th>\n",
       "      <td>5</td>\n",
       "      <td>tt0113101</td>\n",
       "      <td>Four Rooms</td>\n",
       "      <td>1995-12-09</td>\n",
       "      <td>4257354</td>\n",
       "      <td>4000000</td>\n",
       "      <td>5</td>\n",
       "      <td>15</td>\n",
       "      <td>2123</td>\n",
       "      <td>98.0</td>\n",
       "      <td>[80, 35]</td>\n",
       "      <td>1995</td>\n",
       "    </tr>\n",
       "    <tr>\n",
       "      <th>4</th>\n",
       "      <td>8</td>\n",
       "      <td>tt0825671</td>\n",
       "      <td>Life in Loops (A Megacities RMX)</td>\n",
       "      <td>2006-01-01</td>\n",
       "      <td>0</td>\n",
       "      <td>42000</td>\n",
       "      <td>7</td>\n",
       "      <td>1</td>\n",
       "      <td>18</td>\n",
       "      <td>80.0</td>\n",
       "      <td>[99]</td>\n",
       "      <td>2006</td>\n",
       "    </tr>\n",
       "  </tbody>\n",
       "</table>\n",
       "</div>"
      ],
      "text/plain": [
       "      id     tconst                               title release_date  revenue  \\\n",
       "0   6124  tt0011436       Peter Voss, Thief of Millions   1921-01-01        0   \n",
       "1  25449       None  New World Disorder 9: Never Enough   2008-12-08        0   \n",
       "2      2  tt0094675                               Ariel   1988-10-21        0   \n",
       "3      5  tt0113101                          Four Rooms   1995-12-09  4257354   \n",
       "4      8  tt0825671    Life in Loops (A Megacities RMX)   2006-01-01        0   \n",
       "\n",
       "    budget  vote_average  popularity  vote_count  runtime        genres  year  \n",
       "0        0             0           0           0    420.0          [12]  1921  \n",
       "1        0             6           1           3     69.0            []  2008  \n",
       "2        0             6           9         155     73.0  [18, 80, 35]  1988  \n",
       "3  4000000             5          15        2123     98.0      [80, 35]  1995  \n",
       "4    42000             7           1          18     80.0          [99]  2006  "
      ]
     },
     "execution_count": 560,
     "metadata": {},
     "output_type": "execute_result"
    }
   ],
   "source": [
    "csv_dict[\"tmdb_imdb_gross_full\"][\"year\"]=csv_dict[\"tmdb_imdb_gross_full\"][\"release_date\"].map(lambda x: str(x)[0:4])\n",
    "tmdb_imdb_gross_full=csv_dict[\"tmdb_imdb_gross_full\"]\n",
    "tmdb_imdb_gross=csv_dict[\"tmdb_imdb_gross\"]\n",
    "\n",
    "sql=\"\"\"select cast(id as integer) id, tconst, title, release_date,\n",
    "    cast(revenue as integer) revenue , cast(budget as integer) budget , \n",
    "    cast(vote_average as integer) vote_average, cast(popularity as integer) popularity, \n",
    "    cast(vote_count as integer) vote_count, cast(runtime as integer) runtime, \n",
    "    genres, year\n",
    "    from tmdb_imdb_gross_full\n",
    "    where  popularity!='popularity';\"\"\"\n",
    "\n",
    "tmdb_budget=sqldf(sql,globals())\n",
    "\n",
    "tmdb_budget.head()"
   ]
  },
  {
   "cell_type": "code",
   "execution_count": 561,
   "id": "7f998159",
   "metadata": {},
   "outputs": [
    {
     "data": {
      "text/html": [
       "<div>\n",
       "<style scoped>\n",
       "    .dataframe tbody tr th:only-of-type {\n",
       "        vertical-align: middle;\n",
       "    }\n",
       "\n",
       "    .dataframe tbody tr th {\n",
       "        vertical-align: top;\n",
       "    }\n",
       "\n",
       "    .dataframe thead th {\n",
       "        text-align: right;\n",
       "    }\n",
       "</style>\n",
       "<table border=\"1\" class=\"dataframe\">\n",
       "  <thead>\n",
       "    <tr style=\"text-align: right;\">\n",
       "      <th></th>\n",
       "      <th>id</th>\n",
       "      <th>release_date</th>\n",
       "      <th>movie</th>\n",
       "      <th>production_budget</th>\n",
       "      <th>domestic_gross</th>\n",
       "      <th>worldwide_gross</th>\n",
       "      <th>tn_worldwide_gross</th>\n",
       "      <th>tn_production_budget</th>\n",
       "      <th>tn_net_profit</th>\n",
       "    </tr>\n",
       "  </thead>\n",
       "  <tbody>\n",
       "    <tr>\n",
       "      <th>0</th>\n",
       "      <td>1</td>\n",
       "      <td>Dec 18, 2009</td>\n",
       "      <td>Avatar</td>\n",
       "      <td>$425,000,000</td>\n",
       "      <td>$760,507,625</td>\n",
       "      <td>$2,776,345,279</td>\n",
       "      <td>2,776,345,279.0</td>\n",
       "      <td>425,000,000.0</td>\n",
       "      <td>2,351,345,279.0</td>\n",
       "    </tr>\n",
       "  </tbody>\n",
       "</table>\n",
       "</div>"
      ],
      "text/plain": [
       "   id  release_date   movie production_budget domestic_gross worldwide_gross  \\\n",
       "0   1  Dec 18, 2009  Avatar      $425,000,000   $760,507,625  $2,776,345,279   \n",
       "\n",
       "   tn_worldwide_gross  tn_production_budget   tn_net_profit  \n",
       "0     2,776,345,279.0         425,000,000.0 2,351,345,279.0  "
      ]
     },
     "execution_count": 561,
     "metadata": {},
     "output_type": "execute_result"
    }
   ],
   "source": [
    "# prepairing gross columns in tn.movie_budgets, tmbdb_imdb_gross, and bom.movie_gross\n",
    "csv_dict[\"tn.movie_budgets\"][\"tn_worldwide_gross\"]=csv_dict[\"tn.movie_budgets\"][\"worldwide_gross\"].apply(gross_to_num)\n",
    "csv_dict[\"tn.movie_budgets\"][\"tn_production_budget\"]=csv_dict[\"tn.movie_budgets\"][\"production_budget\"].apply(gross_to_num)\n",
    "csv_dict[\"tn.movie_budgets\"][\"tn_net_profit\"]=csv_dict[\"tn.movie_budgets\"][\"tn_worldwide_gross\"]-csv_dict[\"tn.movie_budgets\"][\"tn_production_budget\"]\n",
    "\n",
    "\n",
    "csv_dict[\"bom.movie_gross\"][\"foreign_gross_fixed\"]=csv_dict[\"bom.movie_gross\"].loc[:,\"foreign_gross\"].apply(gross_to_num)\n",
    "csv_dict[\"bom.movie_gross\"][\"foreign_gross_fixed\"].replace(np.NaN,0, inplace=True)\n",
    "csv_dict[\"bom.movie_gross\"][\"domestic_gross\"].replace(np.NaN,0, inplace=True)\n",
    "csv_dict[\"bom.movie_gross\"][\"bom_total_gross\"]=csv_dict[\"bom.movie_gross\"][\"domestic_gross\"] + csv_dict[\"bom.movie_gross\"][\"foreign_gross_fixed\"]\n",
    "#csv_dict[\"bom.movie_gross\"].info()\n",
    "\n",
    "csv_dict[\"tn.movie_budgets\"].head(1)"
   ]
  },
  {
   "cell_type": "code",
   "execution_count": 562,
   "id": "85dc098c",
   "metadata": {},
   "outputs": [],
   "source": [
    "csv_dict.get(\"tn.movie_budgets\")[\"release_date\"]=csv_dict.get(\"tn.movie_budgets\")[\"release_date\"].apply(extract_year)\n",
    "csv_dict[\"bom.movie_gross\"][\"year\"]=csv_dict[\"bom.movie_gross\"][\"year\"].map(lambda x: str(x))  \n",
    "\n"
   ]
  },
  {
   "cell_type": "code",
   "execution_count": 667,
   "id": "12e0fa13",
   "metadata": {},
   "outputs": [],
   "source": [
    "\n",
    "temp1_df=tmdb_budget.merge(csv_dict.get(\"tn.movie_budgets\")[[\"movie\", \"tn_production_budget\", \"tn_net_profit\", \"tn_worldwide_gross\", \"release_date\" ]], \\\n",
    "                           left_on=['title','year'], right_on=[\"movie\",\"release_date\"], how=\"left\")\n",
    "\n",
    "full_merge_df=temp1_df.merge(csv_dict.get(\"bom.movie_gross\")[[\"title\",\"bom_total_gross\",\"year\"]], \\\n",
    "                            left_on=['title','year'], right_on=[\"title\",\"year\"], how=\"left\")\n",
    "\n",
    "                 "
   ]
  },
  {
   "cell_type": "code",
   "execution_count": 668,
   "id": "41b12683",
   "metadata": {},
   "outputs": [],
   "source": [
    "full_merge_df[\"tn_worldwide_gross\"].replace(0,np.NaN, inplace=True)\n",
    "full_merge_df[\"bom_total_gross\"].replace(0,np.NaN, inplace=True)\n",
    "full_merge_df[\"tn_production_budget\"].replace(0,np.NaN, inplace=True)\n",
    "full_merge_df[\"tn_net_profit\"].replace(0,np.NaN, inplace=True)\n",
    "#full_merge_df[\"tmdb_net_profit\"].replace(0,np.NaN, inplace=True)\n",
    "full_merge_df[\"budget\"].replace(0,np.NaN, inplace=True)\n",
    "full_merge_df[\"revenue\"].replace(0,np.NaN, inplace=True)\n"
   ]
  },
  {
   "cell_type": "code",
   "execution_count": 669,
   "id": "83121af0",
   "metadata": {},
   "outputs": [
    {
     "data": {
      "text/plain": [
       "7600"
      ]
     },
     "execution_count": 669,
     "metadata": {},
     "output_type": "execute_result"
    }
   ],
   "source": [
    "#full_merge_df[\"budget\"].notna().sum()\n",
    "full_merge_df[\"revenue\"].notna().sum()"
   ]
  },
  {
   "cell_type": "code",
   "execution_count": 670,
   "id": "099a94a5",
   "metadata": {},
   "outputs": [],
   "source": [
    "None\n"
   ]
  },
  {
   "cell_type": "code",
   "execution_count": 671,
   "id": "0a99c175",
   "metadata": {},
   "outputs": [],
   "source": [
    "\n",
    "full_merge_df[\"budget\"].fillna(full_merge_df[\"tn_production_budget\"], inplace=True)\n",
    "full_merge_df[\"revenue\"].fillna(full_merge_df[\"tn_worldwide_gross\"], inplace=True)\n",
    "full_merge_df[\"revenue\"].fillna(full_merge_df[\"bom_total_gross\"], inplace=True)\n",
    "full_merge_df[\"year\"].fillna(full_merge_df[\"release_date_y\"], inplace=True)\n",
    "\n",
    "\n",
    "full_merge_df.dropna(subset=[\"revenue\"], inplace=True)\n",
    "\n",
    "full_merge_df[\"tmdb_net_profit\"]  = full_merge_df[\"revenue\"]-full_merge_df[\"budget\"]\n",
    "\n",
    "\n",
    "\n",
    "#columns=[\"original_title\",\"start_year\",\"gross\", \"release_date\",\"movie\", \"worldwide_gross_num\"]\n",
    "#merged2_df.drop(columns=columns, inplace=True)"
   ]
  },
  {
   "cell_type": "code",
   "execution_count": 672,
   "id": "152b375b",
   "metadata": {},
   "outputs": [
    {
     "data": {
      "text/plain": [
       "8235"
      ]
     },
     "execution_count": 672,
     "metadata": {},
     "output_type": "execute_result"
    }
   ],
   "source": [
    "sql=\"\"\"\n",
    "select id, tconst, title,  release_date_x release_date, revenue, budget,  tmdb_net_profit net_profit, year, \n",
    "vote_average, popularity, vote_count, runtime, genres\n",
    "from full_merge_df\n",
    "\"\"\"\n",
    "\n",
    "full_profit_df=sqldf(sql, globals())\n",
    "\n",
    "len(full_profit_df)\n",
    "\n"
   ]
  },
  {
   "cell_type": "code",
   "execution_count": 746,
   "id": "05385b98",
   "metadata": {},
   "outputs": [
    {
     "data": {
      "text/plain": [
       "1018"
      ]
     },
     "execution_count": 746,
     "metadata": {},
     "output_type": "execute_result"
    }
   ],
   "source": [
    "\n",
    "type_info = csv_dict['rt.movie_info'][['id', 'director', 'runtime', 'rating']]\n",
    "\n",
    "name_key = csv_dict['imdb.name.basics'][['nconst', 'primary_name']]\n",
    "dir_time = type_info.merge(name_key, left_on = 'director', right_on = 'primary_name')\n",
    "dir_time.dropna(subset=[\"runtime\"], inplace=True)\n",
    "dir_time['runtime'] = dir_time['runtime'].apply(clean_runtime)\n",
    "dir_time.rating.notna().sum()\n"
   ]
  },
  {
   "cell_type": "code",
   "execution_count": 747,
   "id": "09abbe58",
   "metadata": {},
   "outputs": [
    {
     "data": {
      "text/plain": [
       "array([104,  97, 102, 127, 108, 116, 128, 100, 132, 115,  95,  82, 117,\n",
       "        89,  98,  96, 106, 121, 101, 123, 110,  91, 103, 142,  86,  94,\n",
       "        88, 125, 119,  93, 118, 196, 153, 155, 154, 126, 136, 140, 124,\n",
       "       107,  99, 113,  90, 105,  55, 114, 135,  92, 109, 120,  70, 134,\n",
       "       137, 130,  77, 147, 146, 179, 111, 171,  85, 122,  87, 170,  81,\n",
       "       133, 129,  83, 156, 145,  75, 158, 150, 138,  84, 112, 174, 164,\n",
       "       175, 184, 148,  23,  80, 141,  59, 358,  67,  79, 192,  57, 144,\n",
       "       166, 157, 139,  33, 188,  68, 159,  60,  11, 178, 161, 131,  56,\n",
       "       195, 149,  74], dtype=int64)"
      ]
     },
     "execution_count": 747,
     "metadata": {},
     "output_type": "execute_result"
    }
   ],
   "source": [
    "dir_time[\"runtime\"].unique()"
   ]
  },
  {
   "cell_type": "code",
   "execution_count": 748,
   "id": "d3ef5aee",
   "metadata": {},
   "outputs": [],
   "source": [
    "tconst_dir1=csv_dict['imdb.title.crew'][['tconst', 'directors']].copy()\n",
    "\n",
    "movie_id_names_time = csv_dict['imdb.title.basics'][['tconst', 'primary_title', 'runtime_minutes']].copy()\n",
    "movie_id_names_time.dropna(subset=[\"runtime_minutes\"], inplace=True)\n",
    "\n",
    "\n",
    "\n",
    "tconst_dir = movie_id_names_time.merge(tconst_dir1, how = 'inner', on = 'tconst')\n",
    "tconst_dir.dropna(subset=[\"directors\"], inplace=True)\n",
    "\n",
    "\n",
    "\n",
    "tconst_dir['director']= tconst_dir['directors'].str.split(',')\n",
    "tconst_dir.drop(columns = 'directors', inplace = True)\n",
    "tconst_dir_each=tconst_dir.explode(\"director\")\n",
    "\n",
    "#movie_id_names_time['runtime_minutes'] = movie_id_names_time['runtime_minutes'].apply(clean_runtime)\n"
   ]
  },
  {
   "cell_type": "code",
   "execution_count": null,
   "id": "8947d9e4",
   "metadata": {},
   "outputs": [],
   "source": []
  },
  {
   "cell_type": "code",
   "execution_count": 749,
   "id": "b7dc9bc4",
   "metadata": {},
   "outputs": [],
   "source": [
    "dir_time.dropna(subset=[\"runtime\"], inplace=True)\n",
    "\n",
    "tconst_dir_time=dir_time.merge(tconst_dir_each, left_on=[\"nconst\",\"runtime\"], right_on=[\"director\", \"runtime_minutes\"])\n",
    "\n",
    "tconst_dir_time.drop(columns = ['director_x','director_y'], inplace=True)\n",
    "\n"
   ]
  },
  {
   "cell_type": "code",
   "execution_count": 764,
   "id": "64a5de44",
   "metadata": {},
   "outputs": [
    {
     "name": "stdout",
     "output_type": "stream",
     "text": [
      "75.0\n"
     ]
    }
   ],
   "source": [
    "tconst_dir_each.runtime_minutes.unique()\n"
   ]
  },
  {
   "cell_type": "code",
   "execution_count": 755,
   "id": "0e96aeec",
   "metadata": {},
   "outputs": [
    {
     "data": {
      "text/plain": [
       "38"
      ]
     },
     "execution_count": 755,
     "metadata": {},
     "output_type": "execute_result"
    }
   ],
   "source": [
    "full_profit_merge=full_profit_df.merge(tconst_dir_time[['runtime', 'rating', 'primary_name','tconst']], \\\n",
    "                                       on=['tconst'], how=\"left\")\n",
    "\n",
    "full_profit_merge[\"rating\"].notna().sum()"
   ]
  },
  {
   "cell_type": "code",
   "execution_count": 720,
   "id": "474c9f37",
   "metadata": {},
   "outputs": [
    {
     "data": {
      "image/png": "[encoded data removed]",
      "text/plain": [
       "<Figure size 1152x576 with 1 Axes>"
      ]
     },
     "metadata": {
      "needs_background": "light"
     },
     "output_type": "display_data"
    }
   ],
   "source": [
    "\n",
    "\n",
    "fig,ax=plt.subplots(  figsize=(16,8))\n",
    "ax.get_yaxis().set_major_formatter(ticker.FuncFormatter(lambda x, p: format(int(x), ',')))\n",
    "\n",
    "sns.barplot(x='year', y='net_profit', data=by_year_df, ax=ax);"
   ]
  },
  {
   "cell_type": "code",
   "execution_count": null,
   "id": "d86a2703",
   "metadata": {},
   "outputs": [],
   "source": []
  },
  {
   "cell_type": "code",
   "execution_count": null,
   "id": "72efb02f",
   "metadata": {},
   "outputs": [],
   "source": []
  },
  {
   "cell_type": "code",
   "execution_count": null,
   "id": "fd2b22d3",
   "metadata": {},
   "outputs": [],
   "source": []
  },
  {
   "cell_type": "code",
   "execution_count": null,
   "id": "d4b65f0b",
   "metadata": {},
   "outputs": [],
   "source": []
  },
  {
   "cell_type": "code",
   "execution_count": null,
   "id": "db6b4c83",
   "metadata": {},
   "outputs": [],
   "source": []
  }
 ],
 "metadata": {
  "kernelspec": {
   "display_name": "Python 3 (ipykernel)",
   "language": "python",
   "name": "python3"
  },
  "language_info": {
   "codemirror_mode": {
    "name": "ipython",
    "version": 3
   },
   "file_extension": ".py",
   "mimetype": "text/x-python",
   "name": "python",
   "nbconvert_exporter": "python",
   "pygments_lexer": "ipython3",
   "version": "3.9.7"
  }
 },
 "nbformat": 4,
 "nbformat_minor": 5
}
