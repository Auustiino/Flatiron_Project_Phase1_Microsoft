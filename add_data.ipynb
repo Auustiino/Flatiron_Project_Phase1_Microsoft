{
 "cells": [
  {
   "cell_type": "code",
   "execution_count": 38,
   "id": "2ff8626a",
   "metadata": {},
   "outputs": [],
   "source": [
    "import pandas as pd\n",
    "import json\n",
    "import requests\n",
    "API_key=\"051d30521795e4d2a16a29de43033af3\"\n",
    "!ls data/zippedData | grep sv > file_list.txt"
   ]
  },
  {
   "cell_type": "code",
   "execution_count": 39,
   "id": "9511824b",
   "metadata": {},
   "outputs": [],
   "source": [
    "# get the list of tmdb movie id's\n",
    "\n",
    "list_movie_ids=[]\n",
    "list_errors=[]\n",
    "with open('data/movie_ids_12_09_2021.json', 'r', encoding='utf-8') as f:\n",
    "\n",
    "    for line in f:\n",
    "        id_json=f.readline()#.strip()\n",
    "        try:\n",
    "#            list_movie_ids.append(json.loads(id_json))\n",
    "            movie_id_json=json.loads(id_json)\n",
    "        except:\n",
    "            list_errors.append(line)\n",
    "        else:\n",
    "            list_movie_ids.append(movie_id_json)\n"
   ]
  },
  {
   "cell_type": "code",
   "execution_count": 41,
   "id": "d4a60f6e",
   "metadata": {},
   "outputs": [],
   "source": [
    "query = 'https://api.themoviedb.org/3/genre/movie/list?api_key='+API_key+'&language=en-US'\n",
    "response =  requests.get(query)\n",
    "\n",
    "pd.DataFrame(response.json()['genres']).to_csv(\"data/zippedData/tmdb_genres.csv.gz\", encoding='utf-8', compression='gzip')"
   ]
  },
  {
   "cell_type": "code",
   "execution_count": 42,
   "id": "771d3e52",
   "metadata": {},
   "outputs": [
    {
     "data": {
      "text/plain": [
       "[{'adult': False,\n",
       "  'id': 25449,\n",
       "  'original_title': 'New World Disorder 9: Never Enough',\n",
       "  'popularity': 0.907,\n",
       "  'video': False},\n",
       " {'adult': False,\n",
       "  'id': 2,\n",
       "  'original_title': 'Ariel',\n",
       "  'popularity': 9.857,\n",
       "  'video': False}]"
      ]
     },
     "execution_count": 42,
     "metadata": {},
     "output_type": "execute_result"
    }
   ],
   "source": [
    "\n",
    "list_movie_ids[1:3]"
   ]
  },
  {
   "cell_type": "code",
   "execution_count": 43,
   "id": "c8774b4d",
   "metadata": {},
   "outputs": [],
   "source": [
    "# adding tmdb_movie_ids.csv.gz to zippedData folder\n",
    "\n",
    "pd.DataFrame(list_movie_ids).to_csv(\"data/zippedData/tmdb_movie_ids.csv.gz\", encoding='utf-8', compression='gzip')\n",
    "\n"
   ]
  },
  {
   "cell_type": "code",
   "execution_count": 47,
   "id": "32ab437e",
   "metadata": {},
   "outputs": [],
   "source": [
    "# get genre_info and save it in zippedData as gzip\n",
    "\n",
    "query = 'https://api.themoviedb.org/3/genre/movie/list?api_key='+API_key+'&language=en-US'\n",
    "response =  requests.get(query)\n",
    "\n",
    "pd.DataFrame(response.json()['genres']).to_csv(\"data/zippedData/tmdb_genres.csv.gz\", encoding='utf-8', compression='gzip')\n",
    "\n"
   ]
  },
  {
   "cell_type": "code",
   "execution_count": 44,
   "id": "b8305c48",
   "metadata": {},
   "outputs": [],
   "source": [
    "# loading all files into a dictionary\n",
    "\n",
    "with open ('file_list.txt', 'r') as f:\n",
    "    file_list= f.readlines()\n",
    "    \n",
    "csv_dict = {}\n",
    "\n",
    "for csv in file_list:\n",
    "    file='data/ZippedData/'+csv.strip()\n",
    "    df_name=csv.strip()\n",
    "    df_name=df_name.split('.csv.gz')[0]\n",
    "    if 'csv' in file:\n",
    "        df=pd.read_csv(file, compression='gzip')\n",
    "    elif 'tsv' in file:\n",
    "        df=pd.read_csv(file, compression='gzip', delimiter='\\t', encoding='latin-1')\n",
    "    else: print(file, \": unkown file!\")\n",
    "    csv_dict[df_name] = df\n"
   ]
  },
  {
   "cell_type": "code",
   "execution_count": 45,
   "id": "64d40e7f",
   "metadata": {},
   "outputs": [
    {
     "data": {
      "text/plain": [
       "25497"
      ]
     },
     "execution_count": 45,
     "metadata": {},
     "output_type": "execute_result"
    }
   ],
   "source": [
    "# creating a list of in house tmdb id's:\n",
    "\n",
    "id_list=list(csv_dict.get(\"tmdb.movies\")[\"id\"])\n",
    "id_list=list(set(id_list))\n",
    "len(id_list)\n",
    "\n"
   ]
  },
  {
   "cell_type": "code",
   "execution_count": 46,
   "id": "3072156b",
   "metadata": {},
   "outputs": [
    {
     "data": {
      "text/plain": [
       "dict_keys(['adult', 'backdrop_path', 'belongs_to_collection', 'budget', 'genres', 'homepage', 'id', 'imdb_id', 'original_language', 'original_title', 'overview', 'popularity', 'poster_path', 'production_companies', 'production_countries', 'release_date', 'revenue', 'runtime', 'spoken_languages', 'status', 'tagline', 'title', 'video', 'vote_average', 'vote_count'])"
      ]
     },
     "execution_count": 46,
     "metadata": {},
     "output_type": "execute_result"
    }
   ],
   "source": [
    "# Define function to get tmdb details (budget,revenue, corresponding imdb id)\n",
    "\n",
    "\n",
    "def get_data(API_key, Movie_ID):\n",
    "    query = 'https://api.themoviedb.org/3/movie/'+Movie_ID+'?api_key='+API_key+'&language=en-US'\n",
    "    response =  requests.get(query)\n",
    "    if response.status_code==200: \n",
    "\n",
    "        array = response.json()\n",
    "        return array\n",
    "    else:\n",
    "        return (\"error\")\n",
    "\n",
    "Sample_MovieID=\"10138\"\n",
    "\n",
    "get_data(API_key, Sample_MovieID).keys()"
   ]
  },
  {
   "cell_type": "code",
   "execution_count": 36,
   "id": "ba3092c3",
   "metadata": {},
   "outputs": [],
   "source": [
    "# get genre_info and save it in zippedData as gzip\n",
    "\n",
    "query = 'https://api.themoviedb.org/3/genre/movie/list?api_key='+API_key+'&language=en-US'\n",
    "response =  requests.get(query)\n",
    "\n",
    "pd.DataFrame(response.json()['genres']).to_csv(\"data/zippedData/tmdb_genres.csv.gz\", encoding='utf-8', compression='gzip')\n",
    "\n"
   ]
  },
  {
   "cell_type": "code",
   "execution_count": null,
   "id": "75f183b6",
   "metadata": {},
   "outputs": [],
   "source": [
    "## Uncomment this section to download imdb_id/tmdb_id information as well as revenue/budget information from API:\n",
    "tmdb_list=[]\n",
    "tmdb_dic={}\n",
    "#for num,movie_id in enumerate(id_list):\n",
    "#    movie_json=get_data(API_key, str(movie_id))\n",
    "#    if movie_json != \"error\":\n",
    "#        tmdb_dict = {\"id\":movie_json[\"id\"], \"tconst\":movie_json[\"imdb_id\"], \"release_date\":movie_json[\"release_date\"], \n",
    "#                     \"revenue\": movie_json[\"revenue\"], \"budget\": movie_json[\"budget\"]}\n",
    "#        tmdb_list.append(tmdb_dict)\n",
    "####        if num == 200:\n",
    "####            break\n",
    "\n",
    "\n",
    "# pd.DataFrame(tmdb_list).to_csv(\"data/zippedData/tmdb_imdb_gross.csv.gz\", encoding='utf-8', compression='gzip')\n"
   ]
  }
 ],
 "metadata": {
  "kernelspec": {
   "display_name": "Python 3 (ipykernel)",
   "language": "python",
   "name": "python3"
  },
  "language_info": {
   "codemirror_mode": {
    "name": "ipython",
    "version": 3
   },
   "file_extension": ".py",
   "mimetype": "text/x-python",
   "name": "python",
   "nbconvert_exporter": "python",
   "pygments_lexer": "ipython3",
   "version": "3.9.7"
  }
 },
 "nbformat": 4,
 "nbformat_minor": 5
}
