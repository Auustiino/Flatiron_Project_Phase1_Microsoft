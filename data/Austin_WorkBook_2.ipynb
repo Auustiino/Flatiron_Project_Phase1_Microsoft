{
 "cells": [
  {
   "cell_type": "code",
   "execution_count": 1,
   "metadata": {},
   "outputs": [],
   "source": [
    "import pandas as pd \n",
    "import csv \n",
    "import matplotlib.pyplot as plt"
   ]
  },
  {
   "cell_type": "code",
   "execution_count": 17,
   "metadata": {},
   "outputs": [
    {
     "data": {
      "text/plain": [
       "<function dict.keys>"
      ]
     },
     "execution_count": 17,
     "metadata": {},
     "output_type": "execute_result"
    }
   ],
   "source": [
    "with open ('file_list.txt', 'r') as f:\n",
    "    csv_list= f.readlines()\n",
    "file_dict = {}\n",
    "for csv in csv_list:\n",
    "    key='ZippedData/'+csv.strip()\n",
    "    df_name=csv.strip()\n",
    "    df_name=df_name.split('.csv.gz')[0]\n",
    "    df=pd.read_csv(key, compression='gzip')\n",
    "    file_dict[df_name] = df\n",
    "file_dict.keys"
   ]
  },
  {
   "cell_type": "code",
   "execution_count": 23,
   "metadata": {},
   "outputs": [
    {
     "name": "stdout",
     "output_type": "stream",
     "text": [
      "bom.movie_gross.csv.gz\r\n",
      "imdb.name.basics.csv.gz\r\n",
      "imdb.title.akas.csv.gz\r\n",
      "imdb.title.basics.csv.gz\r\n",
      "imdb.title.crew.csv.gz\r\n",
      "imdb.title.principals.csv.gz\r\n",
      "imdb.title.ratings.csv.gz\r\n",
      "tmdb.movies.csv.gz\r\n",
      "tn.movie_budgets.csv.gz\r\n"
     ]
    }
   ],
   "source": [
    "!ls zippedData | grep csv > file_list.txt\n",
    "!cat file_list.txt"
   ]
  },
  {
   "cell_type": "code",
   "execution_count": 19,
   "metadata": {},
   "outputs": [
    {
     "data": {
      "text/html": [
       "<div>\n",
       "<style scoped>\n",
       "    .dataframe tbody tr th:only-of-type {\n",
       "        vertical-align: middle;\n",
       "    }\n",
       "\n",
       "    .dataframe tbody tr th {\n",
       "        vertical-align: top;\n",
       "    }\n",
       "\n",
       "    .dataframe thead th {\n",
       "        text-align: right;\n",
       "    }\n",
       "</style>\n",
       "<table border=\"1\" class=\"dataframe\">\n",
       "  <thead>\n",
       "    <tr style=\"text-align: right;\">\n",
       "      <th></th>\n",
       "      <th>id</th>\n",
       "      <th>release_date</th>\n",
       "      <th>movie</th>\n",
       "      <th>production_budget</th>\n",
       "      <th>domestic_gross</th>\n",
       "      <th>worldwide_gross</th>\n",
       "    </tr>\n",
       "  </thead>\n",
       "  <tbody>\n",
       "    <tr>\n",
       "      <th>0</th>\n",
       "      <td>1</td>\n",
       "      <td>Dec 18, 2009</td>\n",
       "      <td>Avatar</td>\n",
       "      <td>$425,000,000</td>\n",
       "      <td>$760,507,625</td>\n",
       "      <td>$2,776,345,279</td>\n",
       "    </tr>\n",
       "  </tbody>\n",
       "</table>\n",
       "</div>"
      ],
      "text/plain": [
       "   id  release_date   movie production_budget domestic_gross worldwide_gross\n",
       "0   1  Dec 18, 2009  Avatar      $425,000,000   $760,507,625  $2,776,345,279"
      ]
     },
     "execution_count": 19,
     "metadata": {},
     "output_type": "execute_result"
    }
   ],
   "source": [
    "tn_budgets = pd.read_csv('zippedData/tn.movie_budgets.csv.gz', compression = 'gzip')\n",
    "# budgets.info()\n",
    "tn_budgets.head(1)"
   ]
  },
  {
   "cell_type": "code",
   "execution_count": null,
   "metadata": {},
   "outputs": [],
   "source": []
  },
  {
   "cell_type": "code",
   "execution_count": 12,
   "metadata": {},
   "outputs": [
    {
     "data": {
      "text/html": [
       "<div>\n",
       "<style scoped>\n",
       "    .dataframe tbody tr th:only-of-type {\n",
       "        vertical-align: middle;\n",
       "    }\n",
       "\n",
       "    .dataframe tbody tr th {\n",
       "        vertical-align: top;\n",
       "    }\n",
       "\n",
       "    .dataframe thead th {\n",
       "        text-align: right;\n",
       "    }\n",
       "</style>\n",
       "<table border=\"1\" class=\"dataframe\">\n",
       "  <thead>\n",
       "    <tr style=\"text-align: right;\">\n",
       "      <th></th>\n",
       "      <th>Unnamed: 0</th>\n",
       "      <th>genre_ids</th>\n",
       "      <th>id</th>\n",
       "      <th>original_language</th>\n",
       "      <th>original_title</th>\n",
       "      <th>popularity</th>\n",
       "      <th>release_date</th>\n",
       "      <th>title</th>\n",
       "      <th>vote_average</th>\n",
       "      <th>vote_count</th>\n",
       "    </tr>\n",
       "  </thead>\n",
       "  <tbody>\n",
       "    <tr>\n",
       "      <th>0</th>\n",
       "      <td>0</td>\n",
       "      <td>[12, 14, 10751]</td>\n",
       "      <td>12444</td>\n",
       "      <td>en</td>\n",
       "      <td>Harry Potter and the Deathly Hallows: Part 1</td>\n",
       "      <td>33.533</td>\n",
       "      <td>2010-11-19</td>\n",
       "      <td>Harry Potter and the Deathly Hallows: Part 1</td>\n",
       "      <td>7.7</td>\n",
       "      <td>10788</td>\n",
       "    </tr>\n",
       "  </tbody>\n",
       "</table>\n",
       "</div>"
      ],
      "text/plain": [
       "   Unnamed: 0        genre_ids     id original_language  \\\n",
       "0           0  [12, 14, 10751]  12444                en   \n",
       "\n",
       "                                 original_title  popularity release_date  \\\n",
       "0  Harry Potter and the Deathly Hallows: Part 1      33.533   2010-11-19   \n",
       "\n",
       "                                          title  vote_average  vote_count  \n",
       "0  Harry Potter and the Deathly Hallows: Part 1           7.7       10788  "
      ]
     },
     "execution_count": 12,
     "metadata": {},
     "output_type": "execute_result"
    }
   ],
   "source": [
    "tmdb_movies = pd.read_csv('zippedData/tmdb.movies.csv.gz', compression = 'gzip')\n",
    "tmdb_movies.head(1)"
   ]
  },
  {
   "cell_type": "code",
   "execution_count": null,
   "metadata": {},
   "outputs": [],
   "source": []
  },
  {
   "cell_type": "code",
   "execution_count": 20,
   "metadata": {},
   "outputs": [],
   "source": [
    "bom_budgets = file_dict['bom.movie_gross']"
   ]
  },
  {
   "cell_type": "markdown",
   "metadata": {},
   "source": [
    "^^^^^^^^^^^^BUDGETS^^^^^^^^^^^^BUDGETS^^^^^^^^^^^^BUDGETS^^^^^^^^^^^^BUDGETS^^^^^^^^^^^^BUDGETS^^^^^^^^^^^^BUDGETS"
   ]
  },
  {
   "cell_type": "code",
   "execution_count": null,
   "metadata": {},
   "outputs": [],
   "source": []
  },
  {
   "cell_type": "code",
   "execution_count": null,
   "metadata": {},
   "outputs": [],
   "source": []
  },
  {
   "cell_type": "code",
   "execution_count": null,
   "metadata": {},
   "outputs": [],
   "source": []
  },
  {
   "cell_type": "code",
   "execution_count": null,
   "metadata": {},
   "outputs": [],
   "source": []
  },
  {
   "cell_type": "markdown",
   "metadata": {},
   "source": [
    "ROTTEN TOMATOES CRITIC WORKING --------------------------------------------------------------------------------"
   ]
  },
  {
   "cell_type": "code",
   "execution_count": 357,
   "metadata": {},
   "outputs": [
    {
     "data": {
      "text/plain": [
       "['0',\n",
       " '0.5/10',\n",
       " '0.5/4',\n",
       " '0.5/5',\n",
       " '0/10',\n",
       " '0/4',\n",
       " '0/5',\n",
       " '0/6',\n",
       " '1',\n",
       " '1-5',\n",
       " '1.0',\n",
       " '1.0/4',\n",
       " '1.0/5',\n",
       " '1.5',\n",
       " '1.5/10',\n",
       " '1.5/4',\n",
       " '1.5/5',\n",
       " '1.6/5',\n",
       " '1.8',\n",
       " '1.9/5',\n",
       " '1/10',\n",
       " '1/2',\n",
       " '1/4',\n",
       " '1/5',\n",
       " '1/6',\n",
       " '2',\n",
       " '2.0/4',\n",
       " '2.0/5',\n",
       " '2.1/2',\n",
       " '2.2',\n",
       " '2.2/5',\n",
       " '2.3/10',\n",
       " '2.3/4',\n",
       " '2.3/5',\n",
       " '2.4/5',\n",
       " '2.5',\n",
       " '2.5/10',\n",
       " '2.5/4',\n",
       " '2.5/5',\n",
       " '2.6/5',\n",
       " '2.6/6',\n",
       " '2.7',\n",
       " '2.7/5',\n",
       " '2/10',\n",
       " '2/2',\n",
       " '2/4',\n",
       " '2/5',\n",
       " '2/6',\n",
       " '3',\n",
       " '3 1/2',\n",
       " '3.0',\n",
       " '3.0/10',\n",
       " '3.0/4',\n",
       " '3.0/5',\n",
       " '3.1',\n",
       " '3.1/5',\n",
       " '3.2',\n",
       " '3.3',\n",
       " '3.3/5',\n",
       " '3.4',\n",
       " '3.5',\n",
       " '3.5/10',\n",
       " '3.5/4',\n",
       " '3.5/5',\n",
       " '3.6/5',\n",
       " '3.7',\n",
       " '3.7/5',\n",
       " '3.8/10',\n",
       " '3.8/5',\n",
       " '3/10',\n",
       " '3/2',\n",
       " '3/4',\n",
       " '3/5',\n",
       " '3/6',\n",
       " '4',\n",
       " '4.0',\n",
       " '4.0/10',\n",
       " '4.0/4',\n",
       " '4.0/5',\n",
       " '4.1',\n",
       " '4.1/10',\n",
       " '4.2',\n",
       " '4.2/10',\n",
       " '4.2/5',\n",
       " '4.3/10',\n",
       " '4.3/5',\n",
       " '4.4/5',\n",
       " '4.5',\n",
       " '4.5/10',\n",
       " '4.5/5',\n",
       " '4.7',\n",
       " '4.8',\n",
       " '4.9',\n",
       " '4.9/10',\n",
       " '4/10',\n",
       " '4/4',\n",
       " '4/5',\n",
       " '4/6',\n",
       " '5',\n",
       " '5.0/10',\n",
       " '5.0/5',\n",
       " '5.2',\n",
       " '5.5/10',\n",
       " '5.5/5',\n",
       " '5.8',\n",
       " '5.8/10',\n",
       " '5.9',\n",
       " '5.9/10',\n",
       " '5/10',\n",
       " '5/5',\n",
       " '5/6',\n",
       " '6',\n",
       " '6.0/10',\n",
       " '6.2',\n",
       " '6.2/10',\n",
       " '6.3/10',\n",
       " '6.5/10',\n",
       " '6.7',\n",
       " '6.8/10',\n",
       " '6.9/10',\n",
       " '6/10',\n",
       " '6/8',\n",
       " '7',\n",
       " '7.0/10',\n",
       " '7.1',\n",
       " '7.1/10',\n",
       " '7.2/10',\n",
       " '7.3',\n",
       " '7.3/10',\n",
       " '7.4',\n",
       " '7.4/10',\n",
       " '7.5/10',\n",
       " '7.6/10',\n",
       " '7.7',\n",
       " '7.7/10',\n",
       " '7.8',\n",
       " '7.8/10',\n",
       " '7.9',\n",
       " '7.9/10',\n",
       " '7/10',\n",
       " '8',\n",
       " '8.0/10',\n",
       " '8.1/10',\n",
       " '8.2',\n",
       " '8.2/10',\n",
       " '8.3/10',\n",
       " '8.4',\n",
       " '8.4/10',\n",
       " '8.5',\n",
       " '8.5/10',\n",
       " '8.6/10',\n",
       " '8.7/10',\n",
       " '8.8/10',\n",
       " '8.9',\n",
       " '8.9/10',\n",
       " '8/10',\n",
       " '9',\n",
       " '9.0',\n",
       " '9.0/10',\n",
       " '9.2',\n",
       " '9.2/10',\n",
       " '9.5/10',\n",
       " '9.6/10',\n",
       " '9.7',\n",
       " '9.8',\n",
       " '9/10',\n",
       " 'A',\n",
       " 'A+',\n",
       " 'A-',\n",
       " 'B',\n",
       " 'B+',\n",
       " 'B-',\n",
       " 'C',\n",
       " 'C+',\n",
       " 'C-',\n",
       " 'D',\n",
       " 'D+',\n",
       " 'D-',\n",
       " 'F',\n",
       " 'F+',\n",
       " 'F-',\n",
       " 'T']"
      ]
     },
     "execution_count": 357,
     "metadata": {},
     "output_type": "execute_result"
    }
   ],
   "source": [
    "# ROTTEN TOMATOES CRITIC RATING FOR MERGING\n",
    "\n",
    "# rt_reviews = pd.read_csv('zippedData/rt.reviews.tsv.gz',sep = '\\t', compression = 'gzip', encoding = 'latin-1' )\n",
    "# rt_reviews.head()\n",
    "# rt_reviews_clean.info() #34k non_null\n",
    "# len(pd.unique(rt_reviews_clean['id'])) #1055 individual id \n",
    "# rt_reviews_clean.head(1)\n",
    "# len(pd.unique(rt_reviews_cleaned['id']))\n",
    "\n",
    "\n",
    "\n",
    "rt_reviews_cleaned = rt_reviews_clean[['id', 'rating', 'critic']]\n",
    "\n",
    "rt_reviews_cleaned.head(1)\n",
    "\n",
    "sorted(rt_reviews_cleaned['rating'].unique())"
   ]
  },
  {
   "cell_type": "code",
   "execution_count": 355,
   "metadata": {},
   "outputs": [
    {
     "data": {
      "text/html": [
       "<div>\n",
       "<style scoped>\n",
       "    .dataframe tbody tr th:only-of-type {\n",
       "        vertical-align: middle;\n",
       "    }\n",
       "\n",
       "    .dataframe tbody tr th {\n",
       "        vertical-align: top;\n",
       "    }\n",
       "\n",
       "    .dataframe thead th {\n",
       "        text-align: right;\n",
       "    }\n",
       "</style>\n",
       "<table border=\"1\" class=\"dataframe\">\n",
       "  <thead>\n",
       "    <tr style=\"text-align: right;\">\n",
       "      <th></th>\n",
       "      <th>id</th>\n",
       "      <th>director</th>\n",
       "      <th>runtime</th>\n",
       "      <th>rating</th>\n",
       "    </tr>\n",
       "  </thead>\n",
       "  <tbody>\n",
       "    <tr>\n",
       "      <th>0</th>\n",
       "      <td>1</td>\n",
       "      <td>William Friedkin</td>\n",
       "      <td>104 minutes</td>\n",
       "      <td>R</td>\n",
       "    </tr>\n",
       "  </tbody>\n",
       "</table>\n",
       "</div>"
      ],
      "text/plain": [
       "   id          director      runtime rating\n",
       "0   1  William Friedkin  104 minutes      R"
      ]
     },
     "execution_count": 355,
     "metadata": {},
     "output_type": "execute_result"
    }
   ],
   "source": [
    "# ROTTEN TOMATOES DIRECTOR/RUNTIME INFO FOR MERGING\n",
    "\n",
    "# rt_movie_info = pd.read_csv('zippedData/rt.movie_info.tsv.gz',sep = '\\t', compression = 'gzip', encoding = 'latin-1' )\n",
    "# rt_reviews_info = rt_movie_info[['id', 'director', 'runtime', 'rating']]\n",
    "# len(pd.unique(rt_movie_info['id'])) #1560 individual id\n",
    "# rt_movie_info.head(10)\n",
    "# rt_movie_info.info() #\n",
    "# rt_reviews_info = rt_movie_info[['id', 'director', 'runtime', 'rating']]\n",
    "\n",
    "# rt_reviews_info = rt_reviews_info.dropna()\n",
    "# len(rt_reviews_info)\n",
    "\n",
    "rt_reviews_info.head(1)"
   ]
  },
  {
   "cell_type": "code",
   "execution_count": 351,
   "metadata": {
    "scrolled": true
   },
   "outputs": [
    {
     "data": {
      "text/html": [
       "<div>\n",
       "<style scoped>\n",
       "    .dataframe tbody tr th:only-of-type {\n",
       "        vertical-align: middle;\n",
       "    }\n",
       "\n",
       "    .dataframe tbody tr th {\n",
       "        vertical-align: top;\n",
       "    }\n",
       "\n",
       "    .dataframe thead th {\n",
       "        text-align: right;\n",
       "    }\n",
       "</style>\n",
       "<table border=\"1\" class=\"dataframe\">\n",
       "  <thead>\n",
       "    <tr style=\"text-align: right;\">\n",
       "      <th></th>\n",
       "      <th>id</th>\n",
       "      <th>director</th>\n",
       "      <th>runtime</th>\n",
       "      <th>rating_x</th>\n",
       "      <th>rating_y</th>\n",
       "      <th>critic</th>\n",
       "    </tr>\n",
       "  </thead>\n",
       "  <tbody>\n",
       "    <tr>\n",
       "      <th>0</th>\n",
       "      <td>3</td>\n",
       "      <td>David Cronenberg</td>\n",
       "      <td>108 minutes</td>\n",
       "      <td>R</td>\n",
       "      <td>3/5</td>\n",
       "      <td>PJ Nabarro</td>\n",
       "    </tr>\n",
       "  </tbody>\n",
       "</table>\n",
       "</div>"
      ],
      "text/plain": [
       "   id          director      runtime rating_x rating_y      critic\n",
       "0   3  David Cronenberg  108 minutes        R      3/5  PJ Nabarro"
      ]
     },
     "execution_count": 351,
     "metadata": {},
     "output_type": "execute_result"
    }
   ],
   "source": [
    "# ROTTEN TOMATOE ID DIRECTOT RUNTIME RATING COMBINED---- READY FOR CLEANING\n",
    "\n",
    "rt_df = rt_reviews_info.merge(rt_reviews_cleaned, how = 'inner', on = 'id')\n",
    "# rt_df[100:140]\n",
    "# len(pd.unique(rt_df['director'])) #938 unique id ---- 781 unique directors\n",
    "rt_df.head(1)\n",
    "# rt_df.info()\n",
    "\n",
    "rt"
   ]
  },
  {
   "cell_type": "code",
   "execution_count": 366,
   "metadata": {},
   "outputs": [
    {
     "data": {
      "text/plain": [
       "1.0"
      ]
     },
     "execution_count": 366,
     "metadata": {},
     "output_type": "execute_result"
    }
   ],
   "source": [
    "# NORMALIZING RATINGS\n",
    "\n",
    "def norm_ratings(rating):\n",
    "    grades = {\"A\":10,\"B\":8,\"C\":6,\"D\":4,\"F\":2,\"A+\":10,\"B+\":9,\"C+\":7,\"D+\":5,\\\n",
    "              \"F+\":3,\"A-\":9,\"B-\":7,\"C-\":5,\"D-\":3,\"F-\":0, '3 1/2': 3.5, 'T': None}\n",
    "    \n",
    "    if rating in grades.keys():\n",
    "        norm=grades[rating]\n",
    "        return norm\n",
    "    elif ('/') in rating:\n",
    "        r = rating.split('/')\n",
    "        norm = float(r[0])/float(r[1])*10\n",
    "        return norm\n",
    "    elif ('-') in rating and len(rating) > 2:\n",
    "        r = rating.split('-')\n",
    "        norm = float(r[0])/float(r[1])*10\n",
    "        return norm\n",
    "    else:\n",
    "        norm = float(rating)\n",
    "        return norm\n",
    "\n",
    "    \n",
    "norm_ratings('')\n",
    "    \n",
    "# rt_df['critic_rating'] = rt_df['rating_y'].apply(norm_ratings)\n",
    "# DROPPING SINGLE NONE RATING\n",
    "\n",
    "# rt_df = rt_df.dropna()\n",
    "# rt_df.head(1)"
   ]
  },
  {
   "cell_type": "code",
   "execution_count": 167,
   "metadata": {},
   "outputs": [],
   "source": [
    "# CLEANING RUNTIME \n",
    "def clean_runtime(runtime):\n",
    "    minutes = runtime.split()[0]\n",
    "    return int(minutes)\n",
    "\n",
    "# rt_df['runtime'] = rt_df['runtime'].apply(clean_runtime)\n",
    "\n",
    "# rt_df.head(1)"
   ]
  },
  {
   "cell_type": "code",
   "execution_count": 359,
   "metadata": {},
   "outputs": [
    {
     "data": {
      "text/html": [
       "<div>\n",
       "<style scoped>\n",
       "    .dataframe tbody tr th:only-of-type {\n",
       "        vertical-align: middle;\n",
       "    }\n",
       "\n",
       "    .dataframe tbody tr th {\n",
       "        vertical-align: top;\n",
       "    }\n",
       "\n",
       "    .dataframe thead th {\n",
       "        text-align: right;\n",
       "    }\n",
       "</style>\n",
       "<table border=\"1\" class=\"dataframe\">\n",
       "  <thead>\n",
       "    <tr style=\"text-align: right;\">\n",
       "      <th></th>\n",
       "      <th>nconst</th>\n",
       "      <th>primary_name</th>\n",
       "      <th>birth_year</th>\n",
       "      <th>death_year</th>\n",
       "      <th>primary_profession</th>\n",
       "      <th>known_for_titles</th>\n",
       "    </tr>\n",
       "  </thead>\n",
       "  <tbody>\n",
       "    <tr>\n",
       "      <th>0</th>\n",
       "      <td>nm0061671</td>\n",
       "      <td>Mary Ellen Bauder</td>\n",
       "      <td>NaN</td>\n",
       "      <td>NaN</td>\n",
       "      <td>miscellaneous,production_manager,producer</td>\n",
       "      <td>tt0837562,tt2398241,tt0844471,tt0118553</td>\n",
       "    </tr>\n",
       "    <tr>\n",
       "      <th>1</th>\n",
       "      <td>nm0061865</td>\n",
       "      <td>Joseph Bauer</td>\n",
       "      <td>NaN</td>\n",
       "      <td>NaN</td>\n",
       "      <td>composer,music_department,sound_department</td>\n",
       "      <td>tt0896534,tt6791238,tt0287072,tt1682940</td>\n",
       "    </tr>\n",
       "    <tr>\n",
       "      <th>2</th>\n",
       "      <td>nm0062070</td>\n",
       "      <td>Bruce Baum</td>\n",
       "      <td>NaN</td>\n",
       "      <td>NaN</td>\n",
       "      <td>miscellaneous,actor,writer</td>\n",
       "      <td>tt1470654,tt0363631,tt0104030,tt0102898</td>\n",
       "    </tr>\n",
       "    <tr>\n",
       "      <th>3</th>\n",
       "      <td>nm0062195</td>\n",
       "      <td>Axel Baumann</td>\n",
       "      <td>NaN</td>\n",
       "      <td>NaN</td>\n",
       "      <td>camera_department,cinematographer,art_department</td>\n",
       "      <td>tt0114371,tt2004304,tt1618448,tt1224387</td>\n",
       "    </tr>\n",
       "    <tr>\n",
       "      <th>4</th>\n",
       "      <td>nm0062798</td>\n",
       "      <td>Pete Baxter</td>\n",
       "      <td>NaN</td>\n",
       "      <td>NaN</td>\n",
       "      <td>production_designer,art_department,set_decorator</td>\n",
       "      <td>tt0452644,tt0452692,tt3458030,tt2178256</td>\n",
       "    </tr>\n",
       "  </tbody>\n",
       "</table>\n",
       "</div>"
      ],
      "text/plain": [
       "      nconst       primary_name  birth_year  death_year  \\\n",
       "0  nm0061671  Mary Ellen Bauder         NaN         NaN   \n",
       "1  nm0061865       Joseph Bauer         NaN         NaN   \n",
       "2  nm0062070         Bruce Baum         NaN         NaN   \n",
       "3  nm0062195       Axel Baumann         NaN         NaN   \n",
       "4  nm0062798        Pete Baxter         NaN         NaN   \n",
       "\n",
       "                                 primary_profession  \\\n",
       "0         miscellaneous,production_manager,producer   \n",
       "1        composer,music_department,sound_department   \n",
       "2                        miscellaneous,actor,writer   \n",
       "3  camera_department,cinematographer,art_department   \n",
       "4  production_designer,art_department,set_decorator   \n",
       "\n",
       "                          known_for_titles  \n",
       "0  tt0837562,tt2398241,tt0844471,tt0118553  \n",
       "1  tt0896534,tt6791238,tt0287072,tt1682940  \n",
       "2  tt1470654,tt0363631,tt0104030,tt0102898  \n",
       "3  tt0114371,tt2004304,tt1618448,tt1224387  \n",
       "4  tt0452644,tt0452692,tt3458030,tt2178256  "
      ]
     },
     "execution_count": 359,
     "metadata": {},
     "output_type": "execute_result"
    }
   ],
   "source": [
    "# CREATING PERSON NAME ID AND PERSON REAL NAME TRANSLATOR KEY\n",
    "# MERGING KEY AND RT_DF TO CORRELATE DIRECTOR TO NAME KEY\n",
    "\n",
    "name_key = file_dict['imdb.name.basics'][['nconst', 'primary_name']]\n",
    "rt_df = rt_df.merge(name_key, left_on = 'director', right_on = 'primary_name')\n",
    "rt_df = rt_df.drop(columns = 'primary_name')\n",
    "\n",
    "# name_key.info()\n",
    "# rt_df.head(1)\n",
    "\n",
    "name_key.head()\n",
    "file_dict['imdb.name.basics'].head()"
   ]
  },
  {
   "cell_type": "code",
   "execution_count": 293,
   "metadata": {},
   "outputs": [],
   "source": [
    "# file_dict['imdb.title.crew'].head(1)"
   ]
  },
  {
   "cell_type": "code",
   "execution_count": 363,
   "metadata": {},
   "outputs": [
    {
     "data": {
      "text/html": [
       "<div>\n",
       "<style scoped>\n",
       "    .dataframe tbody tr th:only-of-type {\n",
       "        vertical-align: middle;\n",
       "    }\n",
       "\n",
       "    .dataframe tbody tr th {\n",
       "        vertical-align: top;\n",
       "    }\n",
       "\n",
       "    .dataframe thead th {\n",
       "        text-align: right;\n",
       "    }\n",
       "</style>\n",
       "<table border=\"1\" class=\"dataframe\">\n",
       "  <thead>\n",
       "    <tr style=\"text-align: right;\">\n",
       "      <th></th>\n",
       "      <th>tconst</th>\n",
       "      <th>director</th>\n",
       "    </tr>\n",
       "  </thead>\n",
       "  <tbody>\n",
       "    <tr>\n",
       "      <th>0</th>\n",
       "      <td>tt0285252</td>\n",
       "      <td>nm0899854</td>\n",
       "    </tr>\n",
       "    <tr>\n",
       "      <th>2</th>\n",
       "      <td>tt0462036</td>\n",
       "      <td>nm1940585</td>\n",
       "    </tr>\n",
       "    <tr>\n",
       "      <th>3</th>\n",
       "      <td>tt0835418</td>\n",
       "      <td>nm0151540</td>\n",
       "    </tr>\n",
       "    <tr>\n",
       "      <th>4</th>\n",
       "      <td>tt0878654</td>\n",
       "      <td>nm0089502</td>\n",
       "    </tr>\n",
       "    <tr>\n",
       "      <th>4</th>\n",
       "      <td>tt0878654</td>\n",
       "      <td>nm2291498</td>\n",
       "    </tr>\n",
       "  </tbody>\n",
       "</table>\n",
       "</div>"
      ],
      "text/plain": [
       "      tconst   director\n",
       "0  tt0285252  nm0899854\n",
       "2  tt0462036  nm1940585\n",
       "3  tt0835418  nm0151540\n",
       "4  tt0878654  nm0089502\n",
       "4  tt0878654  nm2291498"
      ]
     },
     "execution_count": 363,
     "metadata": {},
     "output_type": "execute_result"
    }
   ],
   "source": [
    "# CREATING DIRECTOR ID / MOVIE ID KEY FOR MERGING \n",
    "\n",
    "# movie_director_code = file_dict['imdb.title.crew'][['tconst', 'directors']]\n",
    "# type(movie_director_code['directors'][0]) #str\n",
    "# movie_director_code['director'] = movie_director_code['directors'].str.split(',')\n",
    "# movie_director_code.drop(columns = 'directors', inplace = True)\n",
    "# movie_director_code = movie_director_code.explode('director')\n",
    "# movie_director_code = movie_director_code.dropna()\n",
    "# movie_director_code.info()\n",
    "\n",
    "# movie_director_code.head(1)\n",
    "\n",
    "movie_director_code.head()"
   ]
  },
  {
   "cell_type": "code",
   "execution_count": 303,
   "metadata": {},
   "outputs": [
    {
     "data": {
      "text/plain": [
       "146144"
      ]
     },
     "execution_count": 303,
     "metadata": {},
     "output_type": "execute_result"
    }
   ],
   "source": [
    "# len(file_dict['imdb.title.basics']['runtime_minutes'])#368 unique #146144  total\n",
    "# file_dict['imdb.title.basics']['runtime_minutes']"
   ]
  },
  {
   "cell_type": "code",
   "execution_count": 362,
   "metadata": {
    "scrolled": true
   },
   "outputs": [
    {
     "name": "stdout",
     "output_type": "stream",
     "text": [
      "<class 'pandas.core.frame.DataFrame'>\n",
      "Int64Index: 130938 entries, 0 to 169259\n",
      "Data columns (total 5 columns):\n",
      " #   Column           Non-Null Count   Dtype \n",
      "---  ------           --------------   ----- \n",
      " 0   tconst           130938 non-null  object\n",
      " 1   primary_title    130938 non-null  object\n",
      " 2   original_title   130938 non-null  object\n",
      " 3   runtime_minutes  130938 non-null  int64 \n",
      " 4   director         130938 non-null  object\n",
      "dtypes: int64(1), object(4)\n",
      "memory usage: 11.0+ MB\n"
     ]
    }
   ],
   "source": [
    "# TITLE CODE, TITLE NAME, SECOND TITLE NAME, DIRECTOR CODE, RUNTIME \n",
    "# WILL BE MERGING WITH ROTTEN TOMATO CLEANED DATA TO CORRELATE CRITIC RATINGS TO MOVIE TITLES \n",
    "\n",
    "# movie_id_names_time = file_dict['imdb.title.basics'][['tconst', 'primary_title', 'original_title', 'runtime_minutes']]\n",
    "# half_way = movie_id_names_time.merge(movie_director_code, how = 'left', on = 'tconst')\n",
    "# half_way_clean = half_way.dropna()\n",
    "\n",
    "# def float_conv(flt):\n",
    "#     integer = int(flt)\n",
    "#     return integer\n",
    "\n",
    "# half_way_clean['runtime_minutes'] = half_way_clean['runtime_minutes'].apply(float_conv)\n",
    "# type(half_way_clean['runtime_minutes']\n",
    "\n",
    "# len(half_way_clean['runtime_minutes']) #130k\n",
    "half_way_clean.info()"
   ]
  },
  {
   "cell_type": "code",
   "execution_count": 331,
   "metadata": {},
   "outputs": [
    {
     "data": {
      "text/plain": [
       "368"
      ]
     },
     "execution_count": 331,
     "metadata": {},
     "output_type": "execute_result"
    }
   ],
   "source": [
    "len(file_dict['imdb.title.basics']['runtime_minutes'].unique().astype(int))"
   ]
  },
  {
   "cell_type": "code",
   "execution_count": 321,
   "metadata": {},
   "outputs": [
    {
     "data": {
      "text/plain": [
       "array([108, 116, 128, 100, 132, 115,  95,  82, 117,  97, 102, 127,  98,\n",
       "        96, 106, 121, 123, 110,  91, 103, 142,  86,  94,  88, 125, 119,\n",
       "        93, 196, 153, 155, 154, 126, 136, 140, 124, 107,  99, 113, 101,\n",
       "        90, 118, 105, 135,  92, 109,  70, 134, 137, 130, 120, 104, 147,\n",
       "       146, 179,  89, 111, 171, 114,  87, 170,  81, 133, 129,  83, 156,\n",
       "       145, 150, 138,  84, 174, 184,  75, 122, 148,  85,  80, 358,  67,\n",
       "        59, 144, 164, 166, 157, 139, 112, 159, 161, 131,  56, 141, 149,\n",
       "       158])"
      ]
     },
     "execution_count": 321,
     "metadata": {},
     "output_type": "execute_result"
    }
   ],
   "source": [
    "# half_way_clean[['director', 'runtime_minutes']].drop_duplicates() #127k\n",
    "# (half_way_clean['runtime_minutes'].unique())#91k unique directors 360 unique times 130k total times \n",
    "rt_df['runtime'].unique()\n",
    "\n",
    "# # len(pd.unique(rt_df['nconst']))\n",
    "\n",
    "\n",
    "\n",
    "# len(rt_df['id'].unique())\n",
    "\n",
    "# rt_df['runtime'].value_counts()\n",
    "# half_way_clean['runtime_minutes'][:20]\n",
    "# (rt_df.groupby(['id']).count()['runtime'].unique())\n",
    "\n",
    "# (half_way_clean.groupby(['tconst']).count())#['runtime_minutes'].unique())"
   ]
  },
  {
   "cell_type": "code",
   "execution_count": 332,
   "metadata": {
    "scrolled": true
   },
   "outputs": [
    {
     "name": "stdout",
     "output_type": "stream",
     "text": [
      "<class 'pandas.core.frame.DataFrame'>\n",
      "Int64Index: 29275 entries, 0 to 29274\n",
      "Data columns (total 5 columns):\n",
      " #   Column    Non-Null Count  Dtype  \n",
      "---  ------    --------------  -----  \n",
      " 0   id        29275 non-null  int64  \n",
      " 1   director  29275 non-null  object \n",
      " 2   runtime   29275 non-null  int64  \n",
      " 3   rating    29275 non-null  float64\n",
      " 4   nconst    29275 non-null  object \n",
      "dtypes: float64(1), int64(2), object(2)\n",
      "memory usage: 1.3+ MB\n"
     ]
    }
   ],
   "source": [
    "rt_df.info()\n",
    "# half_way_clean.groupby(['director', 'runtime_minutes'], as_index = False).count()[['director', 'runtime_minutes']]\n",
    "# len(half_way_clean[['director', 'runtime_minutes']].drop_duplicates())\n",
    "# pd.unique(rt_df['runtime', 'nconst']\n",
    "# rt_df[['runtime', 'nconst']].drop_duplicates()\n"
   ]
  },
  {
   "cell_type": "code",
   "execution_count": 335,
   "metadata": {
    "scrolled": true
   },
   "outputs": [
    {
     "name": "stdout",
     "output_type": "stream",
     "text": [
      "<class 'pandas.core.frame.DataFrame'>\n",
      "Int64Index: 6346 entries, 0 to 6345\n",
      "Data columns (total 10 columns):\n",
      " #   Column           Non-Null Count  Dtype  \n",
      "---  ------           --------------  -----  \n",
      " 0   id               6346 non-null   int64  \n",
      " 1   director_x       6346 non-null   object \n",
      " 2   runtime          6346 non-null   int64  \n",
      " 3   rating           6346 non-null   float64\n",
      " 4   nconst           6346 non-null   object \n",
      " 5   tconst           6346 non-null   object \n",
      " 6   primary_title    6346 non-null   object \n",
      " 7   original_title   6346 non-null   object \n",
      " 8   runtime_minutes  6346 non-null   int64  \n",
      " 9   director_y       6346 non-null   object \n",
      "dtypes: float64(1), int64(3), object(6)\n",
      "memory usage: 545.4+ KB\n"
     ]
    },
    {
     "data": {
      "text/html": [
       "<div>\n",
       "<style scoped>\n",
       "    .dataframe tbody tr th:only-of-type {\n",
       "        vertical-align: middle;\n",
       "    }\n",
       "\n",
       "    .dataframe tbody tr th {\n",
       "        vertical-align: top;\n",
       "    }\n",
       "\n",
       "    .dataframe thead th {\n",
       "        text-align: right;\n",
       "    }\n",
       "</style>\n",
       "<table border=\"1\" class=\"dataframe\">\n",
       "  <thead>\n",
       "    <tr style=\"text-align: right;\">\n",
       "      <th></th>\n",
       "      <th>id</th>\n",
       "      <th>director_x</th>\n",
       "      <th>runtime</th>\n",
       "      <th>rating</th>\n",
       "      <th>nconst</th>\n",
       "      <th>tconst</th>\n",
       "      <th>primary_title</th>\n",
       "      <th>original_title</th>\n",
       "      <th>runtime_minutes</th>\n",
       "      <th>director_y</th>\n",
       "    </tr>\n",
       "  </thead>\n",
       "  <tbody>\n",
       "    <tr>\n",
       "      <th>0</th>\n",
       "      <td>14</td>\n",
       "      <td>Taylor Hackford</td>\n",
       "      <td>117</td>\n",
       "      <td>4.0</td>\n",
       "      <td>nm0000431</td>\n",
       "      <td>tt1125929</td>\n",
       "      <td>Love Ranch</td>\n",
       "      <td>Love Ranch</td>\n",
       "      <td>117</td>\n",
       "      <td>nm0000431</td>\n",
       "    </tr>\n",
       "    <tr>\n",
       "      <th>1</th>\n",
       "      <td>14</td>\n",
       "      <td>Taylor Hackford</td>\n",
       "      <td>117</td>\n",
       "      <td>5.0</td>\n",
       "      <td>nm0000431</td>\n",
       "      <td>tt1125929</td>\n",
       "      <td>Love Ranch</td>\n",
       "      <td>Love Ranch</td>\n",
       "      <td>117</td>\n",
       "      <td>nm0000431</td>\n",
       "    </tr>\n",
       "    <tr>\n",
       "      <th>2</th>\n",
       "      <td>14</td>\n",
       "      <td>Taylor Hackford</td>\n",
       "      <td>117</td>\n",
       "      <td>5.0</td>\n",
       "      <td>nm0000431</td>\n",
       "      <td>tt1125929</td>\n",
       "      <td>Love Ranch</td>\n",
       "      <td>Love Ranch</td>\n",
       "      <td>117</td>\n",
       "      <td>nm0000431</td>\n",
       "    </tr>\n",
       "    <tr>\n",
       "      <th>3</th>\n",
       "      <td>14</td>\n",
       "      <td>Taylor Hackford</td>\n",
       "      <td>117</td>\n",
       "      <td>5.0</td>\n",
       "      <td>nm0000431</td>\n",
       "      <td>tt1125929</td>\n",
       "      <td>Love Ranch</td>\n",
       "      <td>Love Ranch</td>\n",
       "      <td>117</td>\n",
       "      <td>nm0000431</td>\n",
       "    </tr>\n",
       "    <tr>\n",
       "      <th>4</th>\n",
       "      <td>14</td>\n",
       "      <td>Taylor Hackford</td>\n",
       "      <td>117</td>\n",
       "      <td>5.0</td>\n",
       "      <td>nm0000431</td>\n",
       "      <td>tt1125929</td>\n",
       "      <td>Love Ranch</td>\n",
       "      <td>Love Ranch</td>\n",
       "      <td>117</td>\n",
       "      <td>nm0000431</td>\n",
       "    </tr>\n",
       "  </tbody>\n",
       "</table>\n",
       "</div>"
      ],
      "text/plain": [
       "   id       director_x  runtime  rating     nconst     tconst primary_title  \\\n",
       "0  14  Taylor Hackford      117     4.0  nm0000431  tt1125929    Love Ranch   \n",
       "1  14  Taylor Hackford      117     5.0  nm0000431  tt1125929    Love Ranch   \n",
       "2  14  Taylor Hackford      117     5.0  nm0000431  tt1125929    Love Ranch   \n",
       "3  14  Taylor Hackford      117     5.0  nm0000431  tt1125929    Love Ranch   \n",
       "4  14  Taylor Hackford      117     5.0  nm0000431  tt1125929    Love Ranch   \n",
       "\n",
       "  original_title  runtime_minutes director_y  \n",
       "0     Love Ranch              117  nm0000431  \n",
       "1     Love Ranch              117  nm0000431  \n",
       "2     Love Ranch              117  nm0000431  \n",
       "3     Love Ranch              117  nm0000431  \n",
       "4     Love Ranch              117  nm0000431  "
      ]
     },
     "execution_count": 335,
     "metadata": {},
     "output_type": "execute_result"
    }
   ],
   "source": [
    "# test = rt_df.merge(half_way_clean, left_on = ['runtime', 'nconst'], right_on = ['runtime_minutes', 'director'])\n",
    "# test.head()\n",
    "test.info()\n",
    "# len(pd.unique(test['director_y']))\n",
    "# test[['director', 'runtime_minutes']].drop_duplicates()\n",
    "\n",
    "# test.loc[90:1300]\n",
    "\n",
    "test.head()"
   ]
  },
  {
   "cell_type": "code",
   "execution_count": null,
   "metadata": {},
   "outputs": [],
   "source": [
    "MERGING MOVIE KEYS \n",
    "\n",
    "rt_df = rt_df.merge(name_key, left_on = 'director', right_on = 'primary_name')"
   ]
  }
 ],
 "metadata": {
  "kernelspec": {
   "display_name": "Python 3.8.5 ('learn-env')",
   "language": "python",
   "name": "python385jvsc74a57bd00386e0ab960921a80f389732ca4b5c334f986e0948b3f6661aa613ff8b30dca4"
  },
  "language_info": {
   "codemirror_mode": {
    "name": "ipython",
    "version": 3
   },
   "file_extension": ".py",
   "mimetype": "text/x-python",
   "name": "python",
   "nbconvert_exporter": "python",
   "pygments_lexer": "ipython3",
   "version": "3.8.5"
  }
 },
 "nbformat": 4,
 "nbformat_minor": 4
}
