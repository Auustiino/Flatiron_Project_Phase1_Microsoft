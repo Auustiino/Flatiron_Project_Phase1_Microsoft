{
 "cells": [
  {
   "cell_type": "markdown",
   "metadata": {
    "slideshow": {
     "slide_type": "slide"
    }
   },
   "source": [
    "# Microsoft Movie Industry Recommendations\n",
    "# D&A Consulting \n",
    "March , 2022 "
   ]
  },
  {
   "cell_type": "markdown",
   "metadata": {
    "slideshow": {
     "slide_type": "slide"
    }
   },
   "source": [
    "# Overview \n",
    "### Insights gained through detailed analaysis of Movie industry Data\n",
    "\n",
    "- Do trends in the industry indicate positive or negative rates of return over time?\n",
    "    - Does the data indicate that breaking into the movie industry will be beneficial long term? \n",
    "- If it is decided Microsoft will move forward in the induustry, what are the most profitable factors? \n",
    "    - Are there niche focuses which consistently proven to be more profitable?\n",
    "- Which correlates more strongly with movie success; Crtitic reviews or population reviews? \n",
    "    - Should there be an emphasis on advertising or exclusive promotion events? \n"
   ]
  },
  {
   "cell_type": "markdown",
   "metadata": {
    "slideshow": {
     "slide_type": "slide"
    }
   },
   "source": [
    "# Outline  \n",
    "\n",
    "- ### Industry Analysis \n",
    "- ### Categorical Focus\n",
    "- ### Reviews and Profitabiltiy \n"
   ]
  },
  {
   "cell_type": "markdown",
   "metadata": {
    "slideshow": {
     "slide_type": "slide"
    }
   },
   "source": [
    "# Industry Trends "
   ]
  },
  {
   "cell_type": "markdown",
   "metadata": {
    "slideshow": {
     "slide_type": "slide"
    }
   },
   "source": [
    "# Proven Markets "
   ]
  },
  {
   "cell_type": "markdown",
   "metadata": {
    "slideshow": {
     "slide_type": "slide"
    }
   },
   "source": [
    "# Everybody's a Critic \n",
    "Do Critic Review or Population Review Correlate More strongly With Profitability "
   ]
  },
  {
   "cell_type": "markdown",
   "metadata": {},
   "source": []
  },
  {
   "cell_type": "code",
   "execution_count": null,
   "metadata": {},
   "outputs": [],
   "source": []
  }
 ],
 "metadata": {
  "celltoolbar": "Slideshow",
  "kernelspec": {
   "display_name": "Python 3 (ipykernel)",
   "language": "python",
   "name": "python3"
  },
  "language_info": {
   "codemirror_mode": {
    "name": "ipython",
    "version": 3
   },
   "file_extension": ".py",
   "mimetype": "text/x-python",
   "name": "python",
   "nbconvert_exporter": "python",
   "pygments_lexer": "ipython3",
   "version": "3.8.5"
  }
 },
 "nbformat": 4,
 "nbformat_minor": 4
}
