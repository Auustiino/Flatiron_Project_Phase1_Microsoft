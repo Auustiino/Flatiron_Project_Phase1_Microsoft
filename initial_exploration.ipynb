{
 "cells": [
  {
   "cell_type": "code",
   "execution_count": 98,
   "id": "df34ca08",
   "metadata": {},
   "outputs": [
    {
     "name": "stdout",
     "output_type": "stream",
     "text": [
      "rt.movie_info.tsv.gz\n",
      "rt.reviews.tsv.gz\n"
     ]
    }
   ],
   "source": [
    "!ls zippedData | grep csv > csv_list.txt\n",
    "!ls zippedData | grep tsv > tsv_list.txt\n",
    "!cat tsv_list.txt"
   ]
  },
  {
   "cell_type": "code",
   "execution_count": 88,
   "id": "53dc18f4",
   "metadata": {},
   "outputs": [],
   "source": [
    "with open ('csv_list.txt', 'r') as f:\n",
    "    csv_list= f.readlines()\n",
    "    \n",
    "\n",
    "csv_dict = {}\n",
    "\n",
    "    \n",
    "for csv in csv_list:\n",
    "    key='ZippedData/'+csv.strip()\n",
    "    df_name=csv.strip()\n",
    "    df_name=df_name.split('.csv.gz')[0]\n",
    "    df=pd.read_csv(key, compression='gzip')\n",
    "    csv_dict[df_name] = df\n",
    "\n",
    "\n",
    "\n"
   ]
  },
  {
   "cell_type": "code",
   "execution_count": null,
   "id": "a02e7652",
   "metadata": {},
   "outputs": [],
   "source": [
    "with open ('tsv_list.txt', 'r') as f:\n",
    "    tsv_list= f.readlines()\n",
    "    \n",
    "\n",
    "tsv_dict = {}\n",
    "\n",
    "    \n",
    "for tsv in tsv_list:\n",
    "    key='ZippedData/'+tsv.strip()\n",
    "    df_name=tsv.strip()\n",
    "    df_name=df_name.split('.tsv.gz')[0]\n",
    "    df=pd.read_csv(key, compression='gzip', delimiter='\\t', encoding='latin-1')\n",
    "    tsv_dict[df_name] = df\n",
    "    \n",
    "\n"
   ]
  },
  {
   "cell_type": "code",
   "execution_count": 216,
   "id": "2df964d5",
   "metadata": {},
   "outputs": [
    {
     "name": "stdout",
     "output_type": "stream",
     "text": [
      "dict_keys(['bom.movie_gross', 'imdb.name.basics', 'imdb.title.akas', 'imdb.title.basics', 'imdb.title.crew', 'imdb.title.principals', 'imdb.title.ratings', 'tmdb.movies', 'tn.movie_budgets'])\n",
      "dict_keys(['rt.movie_info', 'rt.reviews'])\n",
      "<class 'pandas.core.frame.DataFrame'>\n",
      "RangeIndex: 1560 entries, 0 to 1559\n",
      "Data columns (total 12 columns):\n",
      " #   Column        Non-Null Count  Dtype \n",
      "---  ------        --------------  ----- \n",
      " 0   id            1560 non-null   int64 \n",
      " 1   synopsis      1498 non-null   object\n",
      " 2   rating        1557 non-null   object\n",
      " 3   genre         1552 non-null   object\n",
      " 4   director      1361 non-null   object\n",
      " 5   writer        1111 non-null   object\n",
      " 6   theater_date  1201 non-null   object\n",
      " 7   dvd_date      1201 non-null   object\n",
      " 8   currency      340 non-null    object\n",
      " 9   box_office    340 non-null    object\n",
      " 10  runtime       1530 non-null   object\n",
      " 11  studio        494 non-null    object\n",
      "dtypes: int64(1), object(11)\n",
      "memory usage: 146.4+ KB\n"
     ]
    }
   ],
   "source": [
    "print(csv_dict.keys())\n",
    "print(tsv_dict.keys())\n",
    "\n",
    "\n",
    "#csv_dict.get(\"bom.movie_gross\")[\"year\"].max() # has key title: values <studio>, gross, year\n",
    "\n",
    "#csv_dict.get(\"imdb.name.basics\").head() # name of a person and lists of production, profession and title \n",
    "#csv_dict.get(\"imdb.title.principals\").head() # similar name.basics, but has explicit category, as well as details for actors\n",
    "\n",
    "#csv_dict.get(\"imdb.title.akas\").head() # title id and <title for different regions if needed> \n",
    "#csv_dict.get(\"imdb.title.basics\").sort_values(by=\"start_year\")# has key title, values: genres, length, future year\n",
    "#csv_dict.get(\"imdb.title.ratings\").head() # # tittle_id, averagerating, numvotes\n",
    "\n",
    "#csv_dict.get(\"imdb.title.crew\").head() # # LOOKUP TABLE can be joined with name_basics and movie basics \n",
    "\n",
    "\n",
    "# csv_dict.get(\"tmdb.movies\").head() # TMDB tittle_id, averagerating, numvotes, list of genres, original lang, populatrity\n",
    "#csv_dict.get(\"imdb.title.ratings\").head() # #IMDB tittle_id, averagerating, numvotes\n",
    "\n",
    "#csv_dict.get(\"tn.movie_budgets\").head() # #tn title, date, budget and gross\n",
    "\n",
    "#tsv_dict.get(\"rt.reviews\")# #reviews probably can joined with rt.movie_info on id\n",
    "\n",
    "tsv_dict.get(\"rt.movie_info\").info()# #reviews probably can joined with rt.movie_info on id\n",
    "\n",
    "\n"
   ]
  },
  {
   "cell_type": "code",
   "execution_count": 100,
   "id": "41781652",
   "metadata": {},
   "outputs": [],
   "source": []
  },
  {
   "cell_type": "code",
   "execution_count": 108,
   "id": "07358c54",
   "metadata": {},
   "outputs": [
    {
     "name": "stdout",
     "output_type": "stream",
     "text": [
      "   id                                             review rating   fresh  \\\n",
      "0   3  A distinctly gallows take on contemporary fina...    3/5   fresh   \n",
      "1   3  It's an allegory in search of a meaning that n...    NaN  rotten   \n",
      "2   3  ... life lived in a bubble in financial dealin...    NaN   fresh   \n",
      "3   3  Continuing along a line introduced in last yea...    NaN   fresh   \n",
      "4   3             ... a perverse twist on neorealism...     NaN   fresh   \n",
      "\n",
      "           critic  top_critic         publisher               date  \n",
      "0      PJ Nabarro           0   Patrick Nabarro  November 10, 2018  \n",
      "1  Annalee Newitz           0           io9.com       May 23, 2018  \n",
      "2    Sean Axmaker           0  Stream on Demand    January 4, 2018  \n",
      "3   Daniel Kasman           0              MUBI  November 16, 2017  \n",
      "4             NaN           0      Cinema Scope   October 12, 2017  \n"
     ]
    }
   ],
   "source": []
  },
  {
   "cell_type": "code",
   "execution_count": 11,
   "id": "7efeb241",
   "metadata": {},
   "outputs": [
    {
     "name": "stdout",
     "output_type": "stream",
     "text": [
      "initial_exploration.ipynb\n",
      "machine_learning\n",
      "zippedData\n"
     ]
    }
   ],
   "source": [
    "!ls"
   ]
  },
  {
   "cell_type": "code",
   "execution_count": 8,
   "id": "f51ba4d8",
   "metadata": {},
   "outputs": [],
   "source": []
  },
  {
   "cell_type": "code",
   "execution_count": 9,
   "id": "bc7f65d9",
   "metadata": {},
   "outputs": [
    {
     "name": "stdout",
     "output_type": "stream",
     "text": [
      "total 9\n",
      "drwxr-xr-x 1 Dima Fisch 197121    0 Mar  7 13:50 zippedData\n",
      "-rw-r--r-- 1 Dima Fisch 197121  588 Mar  7 14:11 Untitled.ipynb\n",
      "-rw-r--r-- 1 Dima Fisch 197121 2905 Mar  7 14:21 initial_exploration.ipynb\n",
      "drwxr-xr-x 1 Dima Fisch 197121    0 Mar  7 14:22 machine_learning\n"
     ]
    }
   ],
   "source": [
    "!ls -ltr"
   ]
  },
  {
   "cell_type": "code",
   "execution_count": 10,
   "id": "80588055",
   "metadata": {},
   "outputs": [],
   "source": []
  },
  {
   "cell_type": "code",
   "execution_count": null,
   "id": "29c119ee",
   "metadata": {},
   "outputs": [],
   "source": []
  }
 ],
 "metadata": {
  "kernelspec": {
   "display_name": "Python 3 (ipykernel)",
   "language": "python",
   "name": "python3"
  },
  "language_info": {
   "codemirror_mode": {
    "name": "ipython",
    "version": 3
   },
   "file_extension": ".py",
   "mimetype": "text/x-python",
   "name": "python",
   "nbconvert_exporter": "python",
   "pygments_lexer": "ipython3",
   "version": "3.9.7"
  }
 },
 "nbformat": 4,
 "nbformat_minor": 5
}
